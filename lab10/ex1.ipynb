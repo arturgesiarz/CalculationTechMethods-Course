{
 "cells": [
  {
   "cell_type": "markdown",
   "source": [
    "# Zestaw zadań: Równania różniczkowe - spectral bias\n",
    "## Zadanie 1\n",
    "### Autor: Artur Gęsiarz"
   ],
   "metadata": {
    "collapsed": false
   }
  },
  {
   "cell_type": "code",
   "execution_count": null,
   "outputs": [],
   "source": [
    "import torch\n",
    "import torch.nn as nn\n",
    "import numpy as np\n",
    "import matplotlib.pyplot as plt"
   ],
   "metadata": {
    "collapsed": false
   }
  },
  {
   "cell_type": "markdown",
   "source": [
    "### Definicja analitycznego rozwiązania"
   ],
   "metadata": {
    "collapsed": false
   }
  },
  {
   "cell_type": "code",
   "execution_count": null,
   "outputs": [],
   "source": [
    "def exact_solution(x, w):\n",
    "    return (1/w) * torch.sin(w * x)"
   ],
   "metadata": {
    "collapsed": false
   }
  },
  {
   "cell_type": "markdown",
   "source": [
    "### Definicja sieci neuronowej"
   ],
   "metadata": {
    "collapsed": false
   }
  },
  {
   "cell_type": "code",
   "execution_count": null,
   "outputs": [],
   "source": [
    "class FCN(nn.Module):\n",
    "    def __init__(self, N_INPUT, N_OUTPUT, N_HIDDEN, N_LAYERS):\n",
    "        super().__init__()\n",
    "        activation = nn.Tanh\n",
    "        self.fcs = nn.Sequential(*[\n",
    "                        nn.Linear(N_INPUT, N_HIDDEN),\n",
    "                        activation()])\n",
    "        self.fch = nn.Sequential(*[\n",
    "                        nn.Sequential(*[\n",
    "                            nn.Linear(N_HIDDEN, N_HIDDEN),\n",
    "                            activation()]) for _ in range(N_LAYERS-1)])\n",
    "        self.fce = nn.Linear(N_HIDDEN, N_OUTPUT)\n",
    "    def forward(self, x):\n",
    "        x = self.fcs(x)\n",
    "        x = self.fch(x)\n",
    "        x = self.fce(x)\n",
    "        return x"
   ],
   "metadata": {
    "collapsed": false
   }
  },
  {
   "cell_type": "markdown",
   "source": [
    "### Funkcja obliczajca koszt warunku poczatkowego"
   ],
   "metadata": {
    "collapsed": false
   }
  },
  {
   "cell_type": "code",
   "execution_count": null,
   "outputs": [],
   "source": [
    "def calculate_cond_start_cost(model, x_boundary):\n",
    "    u0 = model(x_boundary)\n",
    "    loss_ic = u0 ** 2\n",
    "    return  loss_ic"
   ],
   "metadata": {
    "collapsed": false
   }
  },
  {
   "cell_type": "markdown",
   "source": [
    "### Funkcja obliczajca koszt rezydualny"
   ],
   "metadata": {
    "collapsed": false
   }
  },
  {
   "cell_type": "code",
   "execution_count": null,
   "outputs": [],
   "source": [
    "def calculate_residual_cost(model, x_physics, w):\n",
    "    u = model(x_physics)\n",
    "    du_dx = torch.autograd.grad(u, x_physics, torch.ones_like(u), create_graph=True)[0]\n",
    "    residual = du_dx - torch.cos(w * x_physics)\n",
    "    loss_r = torch.mean(residual**2)\n",
    "    return loss_r"
   ],
   "metadata": {
    "collapsed": false
   }
  },
  {
   "cell_type": "markdown",
   "source": [
    "### Funkcja obliczajca koszt totalny"
   ],
   "metadata": {
    "collapsed": false
   }
  },
  {
   "cell_type": "code",
   "execution_count": null,
   "outputs": [],
   "source": [
    "def calculate_total_cost(model, x_boundary, x_physics, w):\n",
    "    return calculate_cond_start_cost(model, x_boundary) + calculate_residual_cost(model, x_physics, w)"
   ],
   "metadata": {
    "collapsed": false
   }
  },
  {
   "cell_type": "markdown",
   "source": [
    "### Funkcja treningowa PINN"
   ],
   "metadata": {
    "collapsed": false
   }
  },
  {
   "cell_type": "code",
   "execution_count": null,
   "outputs": [],
   "source": [
    "def train_PINN(model, x_boundary, x_physics, cost_fun, w, epochs=50000, lr=0.001):\n",
    "    optimizer = torch.optim.Adam(model.parameters(), lr=lr)\n",
    "    losses = []\n",
    "\n",
    "    for i in range(epochs):\n",
    "        optimizer.zero_grad()\n",
    "\n",
    "        loss = cost_fun(model, x_boundary, x_physics, w)\n",
    "        losses.append(loss.item())\n",
    "\n",
    "        loss.backward()\n",
    "        optimizer.step()\n",
    "\n",
    "        if i % 5000 == 0:\n",
    "            print(f'Epoch {i}, Loss: {loss.item()}')\n",
    "\n",
    "    return losses"
   ],
   "metadata": {
    "collapsed": false
   }
  },
  {
   "cell_type": "markdown",
   "source": [
    "### Funkcja do rysowania wyników"
   ],
   "metadata": {
    "collapsed": false
   }
  },
  {
   "cell_type": "code",
   "execution_count": null,
   "outputs": [],
   "source": [
    "def plot_results(x_test, u_exact, u_pred, losses, title):\n",
    "\n",
    "    plt.plot(x_test, u_exact, label='Exact solution')\n",
    "    plt.plot(x_test, u_pred, '--', label='PINN solution')\n",
    "    plt.xlabel('x')\n",
    "    plt.ylabel('u(x)')\n",
    "    plt.title(title + ': Solution')\n",
    "    plt.legend()\n",
    "    plt.show()\n",
    "\n",
    "    plt.plot(x_test, abs((u_exact - u_pred)))\n",
    "    plt.xlabel('x')\n",
    "    plt.ylabel('error')\n",
    "    plt.title(title + ': Error function')\n",
    "    plt.show()\n",
    "\n",
    "    plt.plot(losses)\n",
    "    plt.xlabel('Epoch')\n",
    "    plt.ylabel('Loss')\n",
    "    plt.title(title + ': Training Loss')\n",
    "    plt.show()"
   ],
   "metadata": {
    "collapsed": false
   }
  },
  {
   "cell_type": "markdown",
   "source": [
    "### Stałe w naszym modelu"
   ],
   "metadata": {
    "collapsed": false
   }
  },
  {
   "cell_type": "code",
   "execution_count": null,
   "outputs": [],
   "source": [
    "N_INPUT = 1\n",
    "N_OUTPUT = 1\n",
    "LR = 0.001\n",
    "EPOCHS = 50000"
   ],
   "metadata": {
    "collapsed": false
   }
  },
  {
   "cell_type": "markdown",
   "source": [
    "### a) Przypadek $ \\omega = 1$"
   ],
   "metadata": {
    "collapsed": false
   }
  },
  {
   "cell_type": "markdown",
   "source": [
    "### Parametry naszego modelu"
   ],
   "metadata": {
    "collapsed": false
   }
  },
  {
   "cell_type": "code",
   "execution_count": null,
   "outputs": [],
   "source": [
    "N_LAYERS = 2\n",
    "N_HIDDEN = 16\n",
    "TRAINING_POINTS = 200\n",
    "TESTING_POINTS = 1000\n",
    "OMEGA = 1"
   ],
   "metadata": {
    "collapsed": false
   }
  },
  {
   "cell_type": "markdown",
   "source": [
    "### Definicja modelu"
   ],
   "metadata": {
    "collapsed": false
   }
  },
  {
   "cell_type": "code",
   "execution_count": null,
   "outputs": [],
   "source": [
    "model = FCN(N_INPUT, N_OUTPUT, N_HIDDEN, N_LAYERS)"
   ],
   "metadata": {
    "collapsed": false
   }
  },
  {
   "cell_type": "markdown",
   "source": [
    "### Definicja punktów treningowych i testowych"
   ],
   "metadata": {
    "collapsed": false
   }
  },
  {
   "cell_type": "code",
   "execution_count": null,
   "outputs": [],
   "source": [
    "x_boundary = torch.tensor([[0.0]], requires_grad=True)\n",
    "x_physics = torch.linspace(-2 * np.pi, 2 * np.pi, TRAINING_POINTS).view(-1, 1).requires_grad_(True)\n",
    "x_test = torch.linspace(-2 * np.pi, 2 * np.pi, TESTING_POINTS).view(-1, 1)\n",
    "u_exact = exact_solution(x_test, OMEGA)"
   ],
   "metadata": {
    "collapsed": false
   }
  },
  {
   "cell_type": "markdown",
   "source": [
    "### Trening modelu"
   ],
   "metadata": {
    "collapsed": false
   }
  },
  {
   "cell_type": "code",
   "execution_count": null,
   "outputs": [],
   "source": [
    "print(f'Training for w = {OMEGA}, Layers = {N_LAYERS}, Neurons = {N_HIDDEN}\\n')\n",
    "#losses = train_PINN(model, x_boundary, x_physics, calculate_total_cost, OMEGA, EPOCHS, LR)"
   ],
   "metadata": {
    "collapsed": false
   }
  },
  {
   "cell_type": "markdown",
   "source": [
    "### Zapisywanie treningu do osobnego pliku"
   ],
   "metadata": {
    "collapsed": false
   }
  },
  {
   "cell_type": "code",
   "execution_count": null,
   "outputs": [],
   "source": [
    "torch.save(model, \"models/model_a_2_16.pth\")"
   ],
   "metadata": {
    "collapsed": false
   }
  },
  {
   "cell_type": "markdown",
   "source": [
    "### Wczytywanie treningu z pliku"
   ],
   "metadata": {
    "collapsed": false
   }
  },
  {
   "cell_type": "code",
   "execution_count": null,
   "outputs": [],
   "source": [
    "model_load = torch.load(\"models/model_a_2_16.pth\")"
   ],
   "metadata": {
    "collapsed": false
   }
  },
  {
   "cell_type": "markdown",
   "source": [
    "### Przewidywanie wartości"
   ],
   "metadata": {
    "collapsed": false
   }
  },
  {
   "cell_type": "code",
   "execution_count": null,
   "outputs": [],
   "source": [
    "u_pred = model_load(x_test).detach().numpy()\n",
    "u_exact = u_exact.numpy()"
   ],
   "metadata": {
    "collapsed": false
   }
  },
  {
   "cell_type": "markdown",
   "source": [
    "### Rysowanie wynikow"
   ],
   "metadata": {
    "collapsed": false
   }
  },
  {
   "cell_type": "code",
   "execution_count": null,
   "outputs": [],
   "source": [
    "#plot_results(x_test, u_exact, u_pred, losses, f'w = {OMEGA}, Layers = {N_LAYERS}, Neurons = {N_HIDDEN}')"
   ],
   "metadata": {
    "collapsed": false
   }
  },
  {
   "cell_type": "markdown",
   "source": [
    "### b) Przypadek $ \\omega = 15$"
   ],
   "metadata": {
    "collapsed": false
   }
  },
  {
   "cell_type": "markdown",
   "source": [
    "### Parametry naszego modelu"
   ],
   "metadata": {
    "collapsed": false
   }
  },
  {
   "cell_type": "code",
   "execution_count": null,
   "outputs": [],
   "source": [
    "TRAINING_POINTS = 3000\n",
    "TESTING_POINTS = 5000\n",
    "OMEGA = 15\n",
    "ARCH = [(2,16), (4,64), (5,128)]"
   ],
   "metadata": {
    "collapsed": false
   }
  },
  {
   "cell_type": "markdown",
   "source": [
    "### Def. modelu, def. pkt. treningowych, def. pkt. testowych, trenig, przewidywanie wartosci, rysowanie..."
   ],
   "metadata": {
    "collapsed": false
   }
  },
  {
   "cell_type": "code",
   "execution_count": null,
   "outputs": [],
   "source": [
    "# for N_LAYERS, N_HIDDEN in ARCH:\n",
    "#\n",
    "#     # Definicja modelu\n",
    "#     model = FCN(N_INPUT, N_OUTPUT, N_HIDDEN, N_LAYERS)\n",
    "#\n",
    "#     # Definicja punktów treningowych i testowych\n",
    "#     x_boundary = torch.tensor([[0.0]], requires_grad=True)\n",
    "#     x_physics = torch.linspace(-2 * np.pi, 2 * np.pi, TRAINING_POINTS).view(-1, 1).requires_grad_(True)\n",
    "#     x_test = torch.linspace(-2 * np.pi, 2 * np.pi, TESTING_POINTS).view(-1, 1)\n",
    "#     u_exact = exact_solution(x_test, OMEGA)\n",
    "#\n",
    "#     # Trening\n",
    "#     print(f'Training for w = {OMEGA}, Layers = {N_LAYERS}, Neurons = {N_HIDDEN}\\n')\n",
    "#     losses = train_PINN(model, x_boundary, x_physics, calculate_total_cost,OMEGA, EPOCHS, LR)\n",
    "#\n",
    "#     # Zapis\n",
    "#     torch.save(model, f\"models/model_b_{N_LAYERS}_{N_HIDDEN}.pth\")\n",
    "#\n",
    "#     # Odczyt\n",
    "#     model_load = torch.load(f\"models/model_b_{N_LAYERS}_{N_HIDDEN}.pth\")\n",
    "#\n",
    "#     # Przewidywanie wartości\n",
    "#     u_pred = model(x_test).detach().numpy()\n",
    "#     u_exact = u_exact.numpy()\n",
    "#\n",
    "#     # Rysowanie wykresow\n",
    "#     plot_results(x_test, u_exact, u_pred, losses, f'w = {OMEGA}, Layers = {N_LAYERS}, Neurons = {N_HIDDEN}')"
   ],
   "metadata": {
    "collapsed": false
   }
  },
  {
   "cell_type": "markdown",
   "source": [
    "### c) Dla wybranej sieci porównam wynik z rozwiązaniem w ktorym przyjeto inne rozwiazanie"
   ],
   "metadata": {
    "collapsed": false
   }
  },
  {
   "cell_type": "markdown",
   "source": [
    "### Funkcja obliczajca koszt totalny"
   ],
   "metadata": {
    "collapsed": false
   }
  },
  {
   "cell_type": "code",
   "execution_count": null,
   "outputs": [],
   "source": [
    "def calculate_total_cost_anastaz(model, _, x_physics, w):\n",
    "    u = torch.tanh(w * x_physics) * model(x_physics)\n",
    "    u_x = torch.autograd.grad(u, x_physics, torch.ones_like(u), create_graph=True)[0]\n",
    "    loss_r = torch.mean(torch.pow((u_x - torch.cos(w * x_physics)),2))\n",
    "    return loss_r"
   ],
   "metadata": {
    "collapsed": false
   }
  },
  {
   "cell_type": "markdown",
   "source": [
    "### Parametry naszego modelu"
   ],
   "metadata": {
    "collapsed": false
   }
  },
  {
   "cell_type": "code",
   "execution_count": null,
   "outputs": [],
   "source": [
    "N_LAYERS = 5\n",
    "N_HIDDEN = 128\n",
    "TRAINING_POINTS = 3000\n",
    "TESTING_POINTS = 5000\n",
    "OMEGA = 15"
   ],
   "metadata": {
    "collapsed": false
   }
  },
  {
   "cell_type": "markdown",
   "source": [
    "### Definicja modelu"
   ],
   "metadata": {
    "collapsed": false
   }
  },
  {
   "cell_type": "code",
   "execution_count": null,
   "outputs": [],
   "source": [
    "# model = FCN(N_INPUT, N_OUTPUT, N_HIDDEN, N_LAYERS)"
   ],
   "metadata": {
    "collapsed": false
   }
  },
  {
   "cell_type": "markdown",
   "source": [
    "### Definicja punktów treningowych i testowych"
   ],
   "metadata": {
    "collapsed": false
   }
  },
  {
   "cell_type": "code",
   "execution_count": null,
   "outputs": [],
   "source": [
    "x_physics = torch.linspace(-2 * np.pi, 2 * np.pi, TRAINING_POINTS).view(-1, 1).requires_grad_(True)\n",
    "x_test = torch.linspace(-2 * np.pi, 2 * np.pi, TESTING_POINTS).view(-1, 1)\n",
    "u_exact = exact_solution(x_test, OMEGA)"
   ],
   "metadata": {
    "collapsed": false
   }
  },
  {
   "cell_type": "markdown",
   "source": [
    "### Trening"
   ],
   "metadata": {
    "collapsed": false
   }
  },
  {
   "cell_type": "code",
   "execution_count": null,
   "outputs": [],
   "source": [
    "print(f'Training for w = {OMEGA}, Layers = {N_LAYERS}, Neurons = {N_HIDDEN}\\n')\n",
    "losses = train_PINN(model, _, x_physics, calculate_total_cost_anastaz, OMEGA, EPOCHS, LR)"
   ],
   "metadata": {
    "collapsed": false
   }
  },
  {
   "cell_type": "markdown",
   "source": [
    "### Zapis"
   ],
   "metadata": {
    "collapsed": false
   }
  },
  {
   "cell_type": "code",
   "execution_count": null,
   "outputs": [],
   "source": [
    "torch.save(model, f\"models/model_c_{N_LAYERS}_{N_HIDDEN}.pth\")"
   ],
   "metadata": {
    "collapsed": false
   }
  },
  {
   "cell_type": "markdown",
   "source": [
    "### Odczyt"
   ],
   "metadata": {
    "collapsed": false
   }
  },
  {
   "cell_type": "code",
   "execution_count": null,
   "outputs": [],
   "source": [
    "model_c_load = torch.load(f\"models/model_c_{N_LAYERS}_{N_HIDDEN}.pth\")"
   ],
   "metadata": {
    "collapsed": false
   }
  },
  {
   "cell_type": "markdown",
   "source": [
    "### Przewidywanie wartości"
   ],
   "metadata": {
    "collapsed": false
   }
  },
  {
   "cell_type": "code",
   "execution_count": null,
   "outputs": [],
   "source": [
    "u_pred = model_c_load(x_test).detach().numpy()\n",
    "u_exact = u_exact.numpy()"
   ],
   "metadata": {
    "collapsed": false
   }
  },
  {
   "cell_type": "markdown",
   "source": [
    "### Rysowanie wykresow"
   ],
   "metadata": {
    "collapsed": false
   }
  },
  {
   "cell_type": "code",
   "execution_count": null,
   "outputs": [],
   "source": [
    "# plot_results(x_test, u_exact, u_pred, losses, f'ansatz - w = {OMEGA}, Layers = {N_LAYERS}, Neurons = {N_HIDDEN}')"
   ],
   "metadata": {
    "collapsed": false
   }
  }
 ],
 "metadata": {
  "kernelspec": {
   "display_name": "Python 3",
   "language": "python",
   "name": "python3"
  },
  "language_info": {
   "codemirror_mode": {
    "name": "ipython",
    "version": 2
   },
   "file_extension": ".py",
   "mimetype": "text/x-python",
   "name": "python",
   "nbconvert_exporter": "python",
   "pygments_lexer": "ipython2",
   "version": "2.7.6"
  }
 },
 "nbformat": 4,
 "nbformat_minor": 0
}
