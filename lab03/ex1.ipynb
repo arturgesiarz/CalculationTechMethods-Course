{
 "cells": [
  {
   "cell_type": "markdown",
   "source": [
    "# Zestaw zadań: Interpolacja\n",
    "## Zadanie 1\n",
    "### Autor: Artur Gęsiarz"
   ],
   "metadata": {
    "collapsed": false
   }
  },
  {
   "cell_type": "code",
   "execution_count": 31,
   "outputs": [],
   "source": [
    "import numpy as np\n",
    "import pandas as pd\n",
    "import matplotlib.pyplot as plt"
   ],
   "metadata": {
    "collapsed": false
   }
  },
  {
   "cell_type": "markdown",
   "source": [
    "### Wyznacznie wszystkich podanych bazowych czterech funkcji dla j = 1,...,9"
   ],
   "metadata": {
    "collapsed": false
   }
  },
  {
   "cell_type": "code",
   "execution_count": 32,
   "outputs": [],
   "source": [
    "first_base_function = [lambda t, j=i: pow(t,j - 1) for i in range(0,10)]\n",
    "second_base_function = [lambda t, j=i: pow(t - 1900, j - 1) for i in range(0,10)]\n",
    "third_base_function = [lambda t, j=i: pow(t - 1940, j - 1) for i in range(0,10)]\n",
    "fourth_base_function = [lambda t, j=i: pow((t - 1940)/40, j - 1) for i in range(0,10)]"
   ],
   "metadata": {
    "collapsed": false
   }
  },
  {
   "cell_type": "markdown",
   "source": [
    "### Wyznaczanie dla kazdego ze zbiorow funkcji bazowych macierz Vandermone"
   ],
   "metadata": {
    "collapsed": false
   }
  },
  {
   "cell_type": "code",
   "execution_count": 33,
   "outputs": [],
   "source": [
    "population_US = {\n",
    "    1900: 76212168,\n",
    "    1910: 92228496,\n",
    "    1920: 106021537,\n",
    "    1930: 123202624,\n",
    "    1940: 132164569,\n",
    "    1950: 151325798,\n",
    "    1960: 179323175,\n",
    "    1970: 203302031,\n",
    "    1980: 226542199\n",
    "}\n",
    "\n",
    "for year in range(1900, 1990, 10):\n",
    "    pass\n",
    "\n"
   ],
   "metadata": {
    "collapsed": false
   }
  }
 ],
 "metadata": {
  "kernelspec": {
   "display_name": "Python 3",
   "language": "python",
   "name": "python3"
  },
  "language_info": {
   "codemirror_mode": {
    "name": "ipython",
    "version": 2
   },
   "file_extension": ".py",
   "mimetype": "text/x-python",
   "name": "python",
   "nbconvert_exporter": "python",
   "pygments_lexer": "ipython2",
   "version": "2.7.6"
  }
 },
 "nbformat": 4,
 "nbformat_minor": 0
}
