{
 "cells": [
  {
   "cell_type": "markdown",
   "source": [
    "# Zestaw zadań: Interpolacja\n",
    "## Zadanie 1\n",
    "### Autor: Artur Gęsiarz"
   ],
   "metadata": {
    "collapsed": false
   }
  },
  {
   "cell_type": "code",
   "execution_count": null,
   "outputs": [],
   "source": [
    "import numpy as np\n",
    "import pandas as pd\n",
    "import matplotlib.pyplot as plt"
   ],
   "metadata": {
    "collapsed": false
   }
  },
  {
   "cell_type": "markdown",
   "source": [
    "### Wyznacznie wszystkich podanych bazowych czterech funkcji dla j = 1,...,9"
   ],
   "metadata": {
    "collapsed": false
   }
  },
  {
   "cell_type": "code",
   "execution_count": null,
   "outputs": [],
   "source": [
    "first_base_function = [lambda t, j=i: pow(t,j - 1) for i in range(0,10)]\n",
    "second_base_function = [lambda t, j=i: pow(t - 1900, j - 1) for i in range(0,10)]\n",
    "third_base_function = [lambda t, j=i: pow(t - 1940, j - 1) for i in range(0,10)]\n",
    "fourth_base_function = [lambda t, j=i: pow((t - 1940)/40, j - 1) for i in range(0,10)]"
   ],
   "metadata": {
    "collapsed": false
   }
  },
  {
   "cell_type": "markdown",
   "source": [
    "### Wyznaczanie dla kazdego ze zbiorow funkcji bazowych macierz Vandermone"
   ],
   "metadata": {
    "collapsed": false
   }
  },
  {
   "cell_type": "code",
   "execution_count": null,
   "outputs": [],
   "source": [],
   "metadata": {
    "collapsed": false
   }
  }
 ],
 "metadata": {
  "kernelspec": {
   "display_name": "Python 3",
   "language": "python",
   "name": "python3"
  },
  "language_info": {
   "codemirror_mode": {
    "name": "ipython",
    "version": 2
   },
   "file_extension": ".py",
   "mimetype": "text/x-python",
   "name": "python",
   "nbconvert_exporter": "python",
   "pygments_lexer": "ipython2",
   "version": "2.7.6"
  }
 },
 "nbformat": 4,
 "nbformat_minor": 0
}
