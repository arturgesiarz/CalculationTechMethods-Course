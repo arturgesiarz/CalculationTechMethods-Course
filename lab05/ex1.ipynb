{
 "cells": [
  {
   "cell_type": "markdown",
   "source": [
    "# Zestaw zadań: Aproksymacja\n",
    "## Zadanie 1\n",
    "### Autor: Artur Gęsiarz"
   ],
   "metadata": {
    "collapsed": false
   }
  },
  {
   "cell_type": "code",
   "execution_count": 98,
   "outputs": [],
   "source": [
    "import numpy as np\n",
    "import numpy.polynomial.polynomial as poly"
   ],
   "metadata": {
    "collapsed": false
   }
  },
  {
   "cell_type": "code",
   "execution_count": 99,
   "outputs": [],
   "source": [
    "population_US = {\n",
    "    1900: 76212168,\n",
    "    1910: 92228496,\n",
    "    1920: 106021537,\n",
    "    1930: 123202624,\n",
    "    1940: 132164569,\n",
    "    1950: 151325798,\n",
    "    1960: 179323175,\n",
    "    1970: 203302031,\n",
    "    1980: 226542199\n",
    "}"
   ],
   "metadata": {
    "collapsed": false
   }
  },
  {
   "cell_type": "markdown",
   "source": [
    "### Funkcja do aproksymacji średniokwadratowej punktowej"
   ],
   "metadata": {
    "collapsed": false
   }
  },
  {
   "cell_type": "code",
   "execution_count": 100,
   "outputs": [],
   "source": [
    "def polyfit_and_extrapolate(years, populations, degree, extrapolate_year):\n",
    "    # Aproksymacja wielomianowa - zostala zmieniona funkcja\n",
    "    coeffs = poly.polyfit(years, populations, degree)\n",
    "\n",
    "    # Ekstrapolacja dla roku extrapolate_year - zostala zmieniona funkcja\n",
    "    extrapolated_population = poly.polyval(extrapolate_year, coeffs)\n",
    "\n",
    "    return extrapolated_population"
   ],
   "metadata": {
    "collapsed": false
   }
  },
  {
   "cell_type": "markdown",
   "source": [
    "### Rok do ekstrapolacji"
   ],
   "metadata": {
    "collapsed": false
   }
  },
  {
   "cell_type": "code",
   "execution_count": 101,
   "outputs": [],
   "source": [
    "extrapolate_year = 1990"
   ],
   "metadata": {
    "collapsed": false
   }
  },
  {
   "cell_type": "markdown",
   "source": [
    "### Prawdziwa wartość populacji dla roku 1990"
   ],
   "metadata": {
    "collapsed": false
   }
  },
  {
   "cell_type": "code",
   "execution_count": 102,
   "outputs": [],
   "source": [
    "true_population_1990 = 248709873"
   ],
   "metadata": {
    "collapsed": false
   }
  },
  {
   "cell_type": "markdown",
   "source": [
    "### Wartości wielomianów dla różnych stopni"
   ],
   "metadata": {
    "collapsed": false
   }
  },
  {
   "cell_type": "code",
   "execution_count": 103,
   "outputs": [
    {
     "name": "stdout",
     "output_type": "stream",
     "text": [
      "Błąd względny dla stopnia 0 wynosi: 0.42354850768451596\n",
      "Błąd względny dla stopnia 1 wynosi: 0.05187475598213699\n",
      "Błąd względny dla stopnia 2 wynosi: 0.024136844952823904\n",
      "Błąd względny dla stopnia 3 wynosi: 0.05118215225921826\n",
      "Błąd względny dla stopnia 4 wynosi: 0.022527862904240234\n",
      "Błąd względny dla stopnia 5 wynosi: 0.11365473215452127\n",
      "Błąd względny dla stopnia 6 wynosi: 0.025459057670782534\n"
     ]
    }
   ],
   "source": [
    "errors = []\n",
    "for degree in range(7):\n",
    "    extrapolated_population = polyfit_and_extrapolate(list(population_US.keys()), list(population_US.values()), degree, extrapolate_year)\n",
    "    relative_error = abs(true_population_1990 - extrapolated_population) / true_population_1990\n",
    "    errors.append(relative_error)\n",
    "\n",
    "    print(f\"Błąd względny dla stopnia {degree} wynosi: {relative_error}\")"
   ],
   "metadata": {
    "collapsed": false
   }
  },
  {
   "cell_type": "markdown",
   "source": [
    "### Znalezienie najmniejszego błędu względnego i odpowiadającego stopnia wielomianu"
   ],
   "metadata": {
    "collapsed": false
   }
  },
  {
   "cell_type": "code",
   "execution_count": 104,
   "outputs": [
    {
     "name": "stdout",
     "output_type": "stream",
     "text": [
      "Najmniejszy błąd względny wynosi: 0.022527862904240234 dla stopnia 4\n"
     ]
    }
   ],
   "source": [
    "min_error_index = np.argmin(errors)\n",
    "min_error_degree = min_error_index\n",
    "min_error = errors[min_error_index]\n",
    "\n",
    "print(f\"Najmniejszy błąd względny wynosi: {min_error} dla stopnia {min_error_degree}\")"
   ],
   "metadata": {
    "collapsed": false
   }
  },
  {
   "cell_type": "markdown",
   "source": [
    "### Funkcja obliczająca AICc"
   ],
   "metadata": {
    "collapsed": false
   }
  },
  {
   "cell_type": "code",
   "execution_count": 105,
   "outputs": [],
   "source": [
    "def calculate_AICc(n, k):\n",
    "\n",
    "    # Oblicznie dla kazdego stopnia sumy\n",
    "    sum_squared_error = np.sum((np.array(list(population_US.values())) - polyfit_and_extrapolate(list(population_US.keys()), list(population_US.values()), k - 1, list(population_US.keys())) ) ** 2)\n",
    "\n",
    "    AIC = 2 * k + n * np.log(sum_squared_error/n)\n",
    "    AICc = AIC + (2 * k * (k + 1)) / (n - k - 1)\n",
    "\n",
    "    return AICc"
   ],
   "metadata": {
    "collapsed": false
   }
  },
  {
   "cell_type": "markdown",
   "source": [],
   "metadata": {
    "collapsed": false
   }
  },
  {
   "cell_type": "markdown",
   "source": [
    "### Obliczenie AICc dla każdego stopnia wielomianu"
   ],
   "metadata": {
    "collapsed": false
   }
  },
  {
   "cell_type": "code",
   "execution_count": 107,
   "outputs": [
    {
     "name": "stdout",
     "output_type": "stream",
     "text": [
      "AICc dla stopnia 0: 321.0109750531991\n",
      "AICc dla stopnia 1: 289.0564781232788\n",
      "AICc dla stopnia 2: 279.45337389660176\n",
      "AICc dla stopnia 3: 284.88040168536725\n",
      "AICc dla stopnia 4: 290.92858150141365\n",
      "AICc dla stopnia 5: 311.25816327217996\n",
      "AICc dla stopnia 6: 381.2614195993493\n"
     ]
    }
   ],
   "source": [
    "AICc_values = []\n",
    "for degree in range(7):\n",
    "    k = degree + 1  # liczba parametrów w modelu\n",
    "    AICc = calculate_AICc(len(population_US), k)\n",
    "    AICc_values.append(AICc)\n",
    "    print(f\"AICc dla stopnia {degree}: {AICc}\")"
   ],
   "metadata": {
    "collapsed": false
   }
  },
  {
   "cell_type": "markdown",
   "source": [
    "### Wybór stopnia wielomianu odpowiadającego najmniejszej wartości AICc"
   ],
   "metadata": {
    "collapsed": false
   }
  },
  {
   "cell_type": "code",
   "execution_count": 108,
   "outputs": [
    {
     "name": "stdout",
     "output_type": "stream",
     "text": [
      "Optymalny stopień wielomianu wg AICc: 2\n"
     ]
    }
   ],
   "source": [
    "optimal_degree = np.argmin(AICc_values)\n",
    "print(f\"Optymalny stopień wielomianu wg AICc: {optimal_degree}\")"
   ],
   "metadata": {
    "collapsed": false
   }
  },
  {
   "cell_type": "markdown",
   "source": [
    "### Sprawdzenie, czy optymalny stopień zgadza się z wynikiem z poprzedniego podpunktu"
   ],
   "metadata": {
    "collapsed": false
   }
  },
  {
   "cell_type": "code",
   "execution_count": 109,
   "outputs": [
    {
     "name": "stdout",
     "output_type": "stream",
     "text": [
      "Optymalny stopień wielomianu wyznaczony za pomocą AICc nie pokrywa się z poprzednim wynikiem.\n",
      "Opitmal Degree: 2.\n",
      "Min Error Degree: 4.\n"
     ]
    }
   ],
   "source": [
    "if optimal_degree == min_error_degree:\n",
    "    print(\"Optymalny stopień wielomianu wyznaczony za pomocą AICc pokrywa się z poprzednim wynikiem.\")\n",
    "else:\n",
    "    print(\"Optymalny stopień wielomianu wyznaczony za pomocą AICc nie pokrywa się z poprzednim wynikiem.\")\n",
    "print(f\"Opitmal Degree: {optimal_degree}.\\nMin Error Degree: {min_error_degree}.\")"
   ],
   "metadata": {
    "collapsed": false
   }
  }
 ],
 "metadata": {
  "kernelspec": {
   "display_name": "Python 3",
   "language": "python",
   "name": "python3"
  },
  "language_info": {
   "codemirror_mode": {
    "name": "ipython",
    "version": 2
   },
   "file_extension": ".py",
   "mimetype": "text/x-python",
   "name": "python",
   "nbconvert_exporter": "python",
   "pygments_lexer": "ipython2",
   "version": "2.7.6"
  }
 },
 "nbformat": 4,
 "nbformat_minor": 0
}
