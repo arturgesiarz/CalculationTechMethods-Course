{
 "cells": [
  {
   "cell_type": "markdown",
   "source": [
    "# Zestaw zadań: Aproksymacja\n",
    "## Zadanie 1\n",
    "### Autor: Artur Gęsiarz"
   ],
   "metadata": {
    "collapsed": false
   }
  },
  {
   "cell_type": "code",
   "execution_count": 25,
   "outputs": [],
   "source": [
    "import numpy as np"
   ],
   "metadata": {
    "collapsed": false
   }
  },
  {
   "cell_type": "code",
   "execution_count": null,
   "outputs": [],
   "source": [
    "population_US = {\n",
    "    1900: 76212168,\n",
    "    1910: 92228496,\n",
    "    1920: 106021537,\n",
    "    1930: 123202624,\n",
    "    1940: 132164569,\n",
    "    1950: 151325798,\n",
    "    1960: 179323175,\n",
    "    1970: 203302031,\n",
    "    1980: 226542199\n",
    "}"
   ],
   "metadata": {
    "collapsed": false,
    "pycharm": {
     "is_executing": true
    }
   }
  },
  {
   "cell_type": "markdown",
   "source": [
    "### Funkcja do aproksymacji średniokwadratowej punktowej"
   ],
   "metadata": {
    "collapsed": false
   }
  },
  {
   "cell_type": "code",
   "execution_count": 27,
   "outputs": [],
   "source": [
    "def polyfit_and_extrapolate(years, populations, degree, extrapolate_year):\n",
    "    # Aproksymacja wielomianowa\n",
    "    coeffs = np.polyfit(years, populations, degree)\n",
    "\n",
    "    # Ekstrapolacja dla roku extrapolate_year\n",
    "    extrapolated_population = np.polyval(coeffs, extrapolate_year)\n",
    "\n",
    "    return extrapolated_population"
   ],
   "metadata": {
    "collapsed": false
   }
  },
  {
   "cell_type": "markdown",
   "source": [
    "### Rok do ekstrapolacji"
   ],
   "metadata": {
    "collapsed": false
   }
  },
  {
   "cell_type": "code",
   "execution_count": 28,
   "outputs": [],
   "source": [
    "extrapolate_year = 1990"
   ],
   "metadata": {
    "collapsed": false
   }
  },
  {
   "cell_type": "markdown",
   "source": [
    "### Prawdziwa wartość populacji dla roku 1990"
   ],
   "metadata": {
    "collapsed": false
   }
  },
  {
   "cell_type": "code",
   "execution_count": 29,
   "outputs": [],
   "source": [
    "true_population_1990 = 248709873"
   ],
   "metadata": {
    "collapsed": false
   }
  },
  {
   "cell_type": "markdown",
   "source": [
    "### Wartości wielomianów dla różnych stopni"
   ],
   "metadata": {
    "collapsed": false
   }
  },
  {
   "cell_type": "code",
   "execution_count": 30,
   "outputs": [
    {
     "name": "stdout",
     "output_type": "stream",
     "text": [
      "Błąd względny dla stopnia 0 wynosi: 0.42354850768451596\n",
      "Błąd względny dla stopnia 1 wynosi: 0.05187475598213316\n",
      "Błąd względny dla stopnia 2 wynosi: 0.02413684495285458\n",
      "Błąd względny dla stopnia 3 wynosi: 0.05118215225970907\n",
      "Błąd względny dla stopnia 4 wynosi: 0.022527862401646597\n",
      "Błąd względny dla stopnia 5 wynosi: 0.11365452709631677\n",
      "Błąd względny dla stopnia 6 wynosi: 0.025439758075064434\n"
     ]
    }
   ],
   "source": [
    "errors = []\n",
    "for degree in range(7):\n",
    "    extrapolated_population = polyfit_and_extrapolate(list(population_US.keys()), list(population_US.values()), degree, extrapolate_year)\n",
    "    relative_error = abs(true_population_1990 - extrapolated_population) / true_population_1990\n",
    "    errors.append(relative_error)\n",
    "\n",
    "    print(f\"Błąd względny dla stopnia {degree} wynosi: {relative_error}\")"
   ],
   "metadata": {
    "collapsed": false
   }
  },
  {
   "cell_type": "markdown",
   "source": [
    "### Znalezienie najmniejszego błędu względnego i odpowiadającego stopnia wielomianu"
   ],
   "metadata": {
    "collapsed": false
   }
  },
  {
   "cell_type": "code",
   "execution_count": 31,
   "outputs": [
    {
     "name": "stdout",
     "output_type": "stream",
     "text": [
      "Najmniejszy błąd względny wynosi: 0.022527862401646597 dla stopnia 4\n"
     ]
    }
   ],
   "source": [
    "min_error_index = np.argmin(errors)\n",
    "min_error_degree = min_error_index\n",
    "min_error = errors[min_error_index]\n",
    "\n",
    "print(f\"Najmniejszy błąd względny wynosi: {min_error} dla stopnia {min_error_degree}\")"
   ],
   "metadata": {
    "collapsed": false
   }
  },
  {
   "cell_type": "markdown",
   "source": [
    "### Funkcja obliczająca AICc"
   ],
   "metadata": {
    "collapsed": false
   }
  },
  {
   "cell_type": "code",
   "execution_count": 32,
   "outputs": [],
   "source": [
    "def calculate_AICc(n, k, sum_squared_error):\n",
    "    AIC = 2 * k + n * np.log(sum_squared_error)\n",
    "    AICc = AIC + (2 * k * (k + 1)) / (n - k + 1)\n",
    "    return AICc"
   ],
   "metadata": {
    "collapsed": false
   }
  },
  {
   "cell_type": "markdown",
   "source": [
    "### Obliczenie sumy kwadratów różnic między wartościami rzeczywistymi a wartościami aproksymacji"
   ],
   "metadata": {
    "collapsed": false
   }
  },
  {
   "cell_type": "code",
   "execution_count": 33,
   "outputs": [],
   "source": [
    "sum_squared_error = np.sum((np.array(list(population_US.values())) - polyfit_and_extrapolate(list(population_US.keys()), list(population_US.values()), min_error_degree, list(population_US.keys())) ) ** 2)\n"
   ],
   "metadata": {
    "collapsed": false
   }
  },
  {
   "cell_type": "markdown",
   "source": [
    "### Obliczenie AICc dla każdego stopnia wielomianu"
   ],
   "metadata": {
    "collapsed": false
   }
  },
  {
   "cell_type": "code",
   "execution_count": 34,
   "outputs": [
    {
     "name": "stdout",
     "output_type": "stream",
     "text": [
      "AICc dla stopnia 0: 283.2750312153188\n",
      "AICc dla stopnia 1: 286.70360264389024\n",
      "AICc dla stopnia 2: 291.50360264389025\n",
      "AICc dla stopnia 3: 298.70360264389024\n",
      "AICc dla stopnia 4: 310.70360264389024\n",
      "AICc dla stopnia 5: 334.70360264389024\n",
      "AICc dla stopnia 6: 406.70360264389024\n"
     ]
    }
   ],
   "source": [
    "AICc_values = []\n",
    "for degree in range(7):\n",
    "    k = degree + 1  # liczba parametrów w modelu\n",
    "    AICc = calculate_AICc(len(population_US), k, sum_squared_error)\n",
    "    AICc_values.append(AICc)\n",
    "    print(f\"AICc dla stopnia {degree}: {AICc}\")"
   ],
   "metadata": {
    "collapsed": false
   }
  },
  {
   "cell_type": "markdown",
   "source": [
    "### Wybór stopnia wielomianu odpowiadającego najmniejszej wartości AICc"
   ],
   "metadata": {
    "collapsed": false
   }
  },
  {
   "cell_type": "code",
   "execution_count": 35,
   "outputs": [
    {
     "name": "stdout",
     "output_type": "stream",
     "text": [
      "Optymalny stopień wielomianu wg AICc: 0\n"
     ]
    }
   ],
   "source": [
    "optimal_degree = np.argmin(AICc_values)\n",
    "print(f\"Optymalny stopień wielomianu wg AICc: {optimal_degree}\")"
   ],
   "metadata": {
    "collapsed": false
   }
  },
  {
   "cell_type": "markdown",
   "source": [
    "### Sprawdzenie, czy optymalny stopień zgadza się z wynikiem z poprzedniego podpunktu"
   ],
   "metadata": {
    "collapsed": false
   }
  },
  {
   "cell_type": "code",
   "execution_count": 36,
   "outputs": [
    {
     "name": "stdout",
     "output_type": "stream",
     "text": [
      "Optymalny stopień wielomianu wyznaczony za pomocą AICc nie pokrywa się z poprzednim wynikiem.\n",
      "Opitmal Degree: 0.\n",
      "Min Error Degree: 4.\n"
     ]
    }
   ],
   "source": [
    "if optimal_degree == min_error_degree:\n",
    "    print(\"Optymalny stopień wielomianu wyznaczony za pomocą AICc pokrywa się z poprzednim wynikiem.\")\n",
    "else:\n",
    "    print(\"Optymalny stopień wielomianu wyznaczony za pomocą AICc nie pokrywa się z poprzednim wynikiem.\")\n",
    "print(f\"Opitmal Degree: {optimal_degree}.\\nMin Error Degree: {min_error_degree}.\")"
   ],
   "metadata": {
    "collapsed": false
   }
  }
 ],
 "metadata": {
  "kernelspec": {
   "display_name": "Python 3",
   "language": "python",
   "name": "python3"
  },
  "language_info": {
   "codemirror_mode": {
    "name": "ipython",
    "version": 2
   },
   "file_extension": ".py",
   "mimetype": "text/x-python",
   "name": "python",
   "nbconvert_exporter": "python",
   "pygments_lexer": "ipython2",
   "version": "2.7.6"
  }
 },
 "nbformat": 4,
 "nbformat_minor": 0
}
