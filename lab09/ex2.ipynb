{
 "cells": [
  {
   "cell_type": "markdown",
   "source": [
    "# Zestaw zadań: Równania różniczkowe zywczajne\n",
    "## Zadanie 2\n",
    "### Autor: Artur Gęsiarz"
   ],
   "metadata": {
    "collapsed": false
   }
  },
  {
   "cell_type": "code",
   "execution_count": 2,
   "outputs": [],
   "source": [
    "import numpy as np"
   ],
   "metadata": {
    "collapsed": false
   }
  },
  {
   "cell_type": "markdown",
   "source": [
    "### a) Analityczna stabilność. Wyjaśnij, czy rozwiązania powyższego równania są stabilne?"
   ],
   "metadata": {
    "collapsed": false
   }
  },
  {
   "cell_type": "markdown",
   "source": [
    "Rozwiązanie analityczne równania różniczkowego można znaleźć, rozwiązując je jako równanie różniczkowe pierwszego rzędu.\n",
    "Dla równania $  \\mathcal y' = -5y $\n",
    "\n",
    "Rozwiązaniem jest:\n",
    "\n",
    "$$  \\mathcal y(t) = y(0) * e^{-5t} $$\n",
    "\n",
    "Z warunku początkowego $ \\mathcal y(0) = 1: $\n",
    "\n",
    "$$  \\mathcal y(t) = e^{-5t} $$\n",
    "\n",
    "Analityczna stabilność oznacza, że jeśli zaburzymy początkowy warunek $ \\mathcal y(0) $, to rozwiązanie nie powinno zmieniać się gwałtownie. Ponieważ wykładnicza funkcja $\\mathcal e^{-5t}$ zawsze zmierza do zera, rozwiązanie jest stabilne dla każdej wartości $t$. Rozwiązania są stabilne, ponieważ dla $\\mathcal t \\rightarrow \\infty$, $\\mathcal y(0) \\rightarrow 0$\n"
   ],
   "metadata": {
    "collapsed": false
   }
  },
  {
   "cell_type": "markdown",
   "source": [
    "### b) Numeryczna stabilność. Wyjaśnij, czy metoda Euler’a jest stabilna dla tego równania z użytym krokiem h?\n"
   ],
   "metadata": {
    "collapsed": false
   }
  },
  {
   "cell_type": "markdown",
   "source": [
    "Stabilność numeryczna oznacza, że metoda numeryczna nie generuje rosnących błędów przy obliczeniach. Dla metody Eulera zastosowanej do równania $y' = -5y$ z krokiem $h = 0.5$:\n",
    "\n",
    "Metoda Eulera:\n",
    "$y_{n+1} = y_n + h*f(t_n,y_n)$\n",
    "\n",
    "Podstawiajaąc $f(t,y) = -5y$\n",
    "$y_{n+1} = y_n + h(-5y_n) = y_n*(1-5h)$\n",
    "\n",
    "Dla stabilności, wartość $|1-5h|$ musi byc mniejsza niz 1:\n"
   ],
   "metadata": {
    "collapsed": false
   }
  }
 ],
 "metadata": {
  "kernelspec": {
   "display_name": "Python 3",
   "language": "python",
   "name": "python3"
  },
  "language_info": {
   "codemirror_mode": {
    "name": "ipython",
    "version": 2
   },
   "file_extension": ".py",
   "mimetype": "text/x-python",
   "name": "python",
   "nbconvert_exporter": "python",
   "pygments_lexer": "ipython2",
   "version": "2.7.6"
  }
 },
 "nbformat": 4,
 "nbformat_minor": 0
}
