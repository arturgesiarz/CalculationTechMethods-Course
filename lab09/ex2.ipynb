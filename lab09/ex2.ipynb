{
 "cells": [
  {
   "cell_type": "markdown",
   "source": [
    "# Zestaw zadań: Równania różniczkowe zywczajne\n",
    "## Zadanie 2\n",
    "### Autor: Artur Gęsiarz"
   ],
   "metadata": {
    "collapsed": false
   }
  },
  {
   "cell_type": "markdown",
   "source": [
    "### a) Analityczna stabilność. Wyjaśnij, czy rozwiązania powyższego równania są stabilne?"
   ],
   "metadata": {
    "collapsed": false
   }
  },
  {
   "cell_type": "markdown",
   "source": [
    "Rozwiązanie analityczne równania różniczkowego można znaleźć, rozwiązując je jako równanie różniczkowe pierwszego rzędu.\n",
    "Dla równania $  \\mathcal y' = -5y $\n",
    "\n",
    "Rozwiązaniem jest:\n",
    "\n",
    "$$  \\mathcal y(t) = y(0) * e^{-5t} $$\n",
    "\n",
    "Z warunku początkowego $ \\mathcal y(0) = 1: $\n",
    "\n",
    "$$  \\mathcal y(t) = e^{-5t} $$\n",
    "\n",
    "Analityczna stabilność oznacza, że jeśli zaburzymy początkowy warunek $ \\mathcal y(0) $, to rozwiązanie nie powinno zmieniać się gwałtownie. Ponieważ wykładnicza funkcja $\\mathcal e^{-5t}$ zawsze zmierza do zera, rozwiązanie jest stabilne dla każdej wartości $t$. Rozwiązania są stabilne, ponieważ dla $\\mathcal t \\rightarrow \\infty$, $\\mathcal y(t) \\rightarrow 0$\n"
   ],
   "metadata": {
    "collapsed": false
   }
  },
  {
   "cell_type": "markdown",
   "source": [
    "### b) Numeryczna stabilność. Wyjaśnij, czy metoda Euler’a jest stabilna dla tego równania z użytym krokiem h?\n"
   ],
   "metadata": {
    "collapsed": false
   }
  },
  {
   "cell_type": "markdown",
   "source": [
    "Stabilność numeryczna oznacza, że metoda numeryczna nie generuje rosnących błędów przy obliczeniach. Dla metody Eulera zastosowanej do równania $y' = -5y$ z krokiem $h = 0.5$:\n",
    "\n",
    "Metoda Eulera:\n",
    "$y_{n+1} = y_n + h*f(t_n,y_n)$\n",
    "\n",
    "Podstawiajaąc $f(t,y) = -5y$\n",
    "$y_{n+1} = y_n + h(-5y_n) = y_n*(1-5h)$\n",
    "\n",
    "Dla stabilności, wartość $|1-5h|$ musi byc mniejsza niz 1:\n",
    "$|1-5*0.5|=|1-2.5|=|-1.5|=1.5$\n",
    "\n",
    "Ponieważ $1.5 > 1$, metoda Eulera nie jest stabilna dla tego równania przy kroku $h = 0.5$\n"
   ],
   "metadata": {
    "collapsed": false
   }
  },
  {
   "cell_type": "markdown",
   "source": [
    "### c) Oblicz numerycznie wartości przybliżonego rozwiązania dla t = 0.5 metodą Euler’a."
   ],
   "metadata": {
    "collapsed": false
   }
  },
  {
   "cell_type": "markdown",
   "source": [
    "#### Metoda Eulera"
   ],
   "metadata": {
    "collapsed": false
   }
  },
  {
   "cell_type": "code",
   "execution_count": 9,
   "outputs": [],
   "source": [
    "def euler_step(y, t, h, f):\n",
    "    return y + h * f(t, y)"
   ],
   "metadata": {
    "collapsed": false
   }
  },
  {
   "cell_type": "code",
   "execution_count": 10,
   "outputs": [],
   "source": [
    "def f(t, y):\n",
    "    return -5 * y"
   ],
   "metadata": {
    "collapsed": false
   }
  },
  {
   "cell_type": "markdown",
   "source": [
    "#### Warunki początkowe"
   ],
   "metadata": {
    "collapsed": false
   }
  },
  {
   "cell_type": "code",
   "execution_count": 11,
   "outputs": [],
   "source": [
    "y0 = 1\n",
    "t0 = 0\n",
    "h = 0.5"
   ],
   "metadata": {
    "collapsed": false
   }
  },
  {
   "cell_type": "markdown",
   "source": [
    "#### Obliczenie wartosci przyblizonej dla t = 0.5"
   ],
   "metadata": {
    "collapsed": false
   }
  },
  {
   "cell_type": "code",
   "execution_count": 12,
   "outputs": [
    {
     "name": "stdout",
     "output_type": "stream",
     "text": [
      "Metoda Eulera: y(0.5) = -1.5\n"
     ]
    }
   ],
   "source": [
    "y_approx_euler = euler_step(y0, t0, h, f)\n",
    "print(f\"Metoda Eulera: y(0.5) = {y_approx_euler}\")"
   ],
   "metadata": {
    "collapsed": false
   }
  },
  {
   "cell_type": "markdown",
   "source": [
    "#### d) Wyjaśnij, czy niejawna metoda Euler’a jest stabilna dla tego równania z użytym krokiem h?"
   ],
   "metadata": {
    "collapsed": false
   }
  },
  {
   "cell_type": "markdown",
   "source": [
    "Niejawna metoda Eulera: $$ y_{n+1} = y_n + h * f(t_{n+1},y_{n+1}). $$\n",
    "Podstawiajac $f(t,y) = -5y$\n",
    "\n",
    "$$y_{n+1}=y_n+h(-5y_{n+1})$$\n",
    "$$y_{n+1}(1+5h)=y_n$$\n",
    "$$y_{n+1}=y_n / ({1 + 5h})$$\n",
    "\n",
    "Dla stabilności, wartość $|1 / (1+5h)|$ musi byc mniejsze niz 1:\n",
    "$|1 / (1+5*0.5)| = 0.286$\n",
    "\n",
    "Poniewaz $0.286 < 1$, niejawna metoda Eulera jest stabilna dla tego rownania przy kroku $h = 0.5$\n"
   ],
   "metadata": {
    "collapsed": false
   }
  },
  {
   "cell_type": "markdown",
   "source": [
    "#### e) Oblicz numerycznie wartości przybliżonego rozwiązania dla t = 0.5 niejawną metodą Euler’a."
   ],
   "metadata": {
    "collapsed": false
   }
  },
  {
   "cell_type": "markdown",
   "source": [
    "#### Niejawna metoda Eulera"
   ],
   "metadata": {
    "collapsed": false
   }
  },
  {
   "cell_type": "code",
   "execution_count": 13,
   "outputs": [],
   "source": [
    "def implicit_euler_step(y, t, h, f):\n",
    "    return y / (1 + 5 * h)"
   ],
   "metadata": {
    "collapsed": false
   }
  },
  {
   "cell_type": "markdown",
   "source": [
    "#### Warunki początkowe"
   ],
   "metadata": {
    "collapsed": false
   }
  },
  {
   "cell_type": "code",
   "execution_count": 14,
   "outputs": [],
   "source": [
    "y0 = 1\n",
    "t0 = 0\n",
    "h = 0.5"
   ],
   "metadata": {
    "collapsed": false
   }
  },
  {
   "cell_type": "markdown",
   "source": [
    "#### Obliczenie wartosci przyblizonej dla t=0.5"
   ],
   "metadata": {
    "collapsed": false
   }
  },
  {
   "cell_type": "code",
   "execution_count": 15,
   "outputs": [
    {
     "name": "stdout",
     "output_type": "stream",
     "text": [
      "Niejawna metoda Eulera: y(0.5) = 0.2857142857142857\n"
     ]
    }
   ],
   "source": [
    "y_approx_implicit_euler = implicit_euler_step(y0, t0, h, f)\n",
    "print(f\"Niejawna metoda Eulera: y(0.5) = {y_approx_implicit_euler}\")"
   ],
   "metadata": {
    "collapsed": false
   }
  }
 ],
 "metadata": {
  "kernelspec": {
   "display_name": "Python 3",
   "language": "python",
   "name": "python3"
  },
  "language_info": {
   "codemirror_mode": {
    "name": "ipython",
    "version": 2
   },
   "file_extension": ".py",
   "mimetype": "text/x-python",
   "name": "python",
   "nbconvert_exporter": "python",
   "pygments_lexer": "ipython2",
   "version": "2.7.6"
  }
 },
 "nbformat": 4,
 "nbformat_minor": 0
}
