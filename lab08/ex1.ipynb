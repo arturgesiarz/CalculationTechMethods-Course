{
 "cells": [
  {
   "cell_type": "markdown",
   "source": [
    "# Zestaw zadań: Rozwiązywanie równań nieliniowych\n",
    "## Zadanie 1\n",
    "### Autor: Artur Gęsiarz"
   ],
   "metadata": {
    "collapsed": false
   }
  },
  {
   "cell_type": "code",
   "execution_count": 673,
   "outputs": [],
   "source": [
    "import numpy as np\n",
    "import matplotlib.pyplot as plt\n",
    "from scipy.optimize import newton, brentq"
   ],
   "metadata": {
    "collapsed": false
   }
  },
  {
   "cell_type": "markdown",
   "source": [
    "### Implementacja funkcji podanych w zadaniu oraz ich pochodnych"
   ],
   "metadata": {
    "collapsed": false
   }
  },
  {
   "cell_type": "code",
   "execution_count": 674,
   "outputs": [],
   "source": [
    "def function_a(x):\n",
    "    return x ** 3 - 5 * x"
   ],
   "metadata": {
    "collapsed": false
   }
  },
  {
   "cell_type": "code",
   "execution_count": 675,
   "outputs": [],
   "source": [
    "def function_a_prim(x):\n",
    "    return 3 * x ** 2 - 5"
   ],
   "metadata": {
    "collapsed": false
   }
  },
  {
   "cell_type": "code",
   "execution_count": 676,
   "outputs": [],
   "source": [
    "def function_b(x):\n",
    "    return x ** 3 - 3 * x + 1"
   ],
   "metadata": {
    "collapsed": false
   }
  },
  {
   "cell_type": "code",
   "execution_count": 677,
   "outputs": [],
   "source": [
    "def function_b_prim(x):\n",
    "    return 3 * x ** 2  - 3"
   ],
   "metadata": {
    "collapsed": false
   }
  },
  {
   "cell_type": "code",
   "execution_count": 678,
   "outputs": [],
   "source": [
    "def function_c(x):\n",
    "    return 2 - x ** 5"
   ],
   "metadata": {
    "collapsed": false
   }
  },
  {
   "cell_type": "code",
   "execution_count": 679,
   "outputs": [],
   "source": [
    "def function_c_prim(x):\n",
    "    return - 5 * x ** 4"
   ],
   "metadata": {
    "collapsed": false
   }
  },
  {
   "cell_type": "code",
   "execution_count": 680,
   "outputs": [],
   "source": [
    "def function_d(x):\n",
    "    return x ** 4 - 4.29 * x ** 2 - 5.29"
   ],
   "metadata": {
    "collapsed": false
   }
  },
  {
   "cell_type": "code",
   "execution_count": 681,
   "outputs": [],
   "source": [
    "def function_d_prim(x):\n",
    "    return 4 * x ** 3 - 8.58 * x"
   ],
   "metadata": {
    "collapsed": false
   }
  },
  {
   "cell_type": "markdown",
   "source": [
    "### Prawidze pierwiastki równanania"
   ],
   "metadata": {
    "collapsed": false
   }
  },
  {
   "cell_type": "code",
   "execution_count": 682,
   "outputs": [],
   "source": [
    "exact_values_a = [-2.24, 0, 2.24]\n",
    "exact_values_b = [-1.88, 0.35, 1.53]\n",
    "exact_values_c = [1.15]\n",
    "exact_values_d = [-2.3, 2.3]"
   ],
   "metadata": {
    "collapsed": false
   }
  },
  {
   "cell_type": "markdown",
   "source": [
    "### Pocztkowe argumenty"
   ],
   "metadata": {
    "collapsed": false
   }
  },
  {
   "cell_type": "code",
   "execution_count": 683,
   "outputs": [],
   "source": [
    "x0_a = 1\n",
    "x0_b = 1\n",
    "x0_c = 0.01\n",
    "x0_d = 0.8"
   ],
   "metadata": {
    "collapsed": false
   }
  },
  {
   "cell_type": "markdown",
   "source": [
    "### Rozpatrzenie podpunktu a"
   ],
   "metadata": {
    "collapsed": false
   }
  },
  {
   "cell_type": "code",
   "execution_count": 684,
   "outputs": [
    {
     "name": "stdout",
     "output_type": "stream",
     "text": [
      "Pierwiastki jakie znalazlem:  [-2.23606797749979, 0.0, 2.23606797749979]\n",
      "Orginalne pierwiastki:  [-2.24, 0, 2.24]\n"
     ]
    }
   ],
   "source": [
    "solutions_a = []\n",
    "start_points = [1.001, 1.1, 0.5]\n",
    "\n",
    "for start_point in start_points:\n",
    "    solutions_a.append(newton(function_a,start_point,function_a_prim))\n",
    "\n",
    "solutions_a.sort()\n",
    "\n",
    "print(\"Pierwiastki jakie znalazlem: \", solutions_a)\n",
    "print(\"Orginalne pierwiastki: \", exact_values_a)"
   ],
   "metadata": {
    "collapsed": false
   }
  },
  {
   "cell_type": "markdown",
   "source": [
    "### Rozpatrzenie podpunktu b"
   ],
   "metadata": {
    "collapsed": false
   }
  },
  {
   "cell_type": "code",
   "execution_count": 685,
   "outputs": [
    {
     "name": "stdout",
     "output_type": "stream",
     "text": [
      "Pierwiastki jakie znalazlem:  [-1.879385241571423, 0.34729635533386066, 1.532088886237956]\n",
      "Orginalne pierwiastki:  [-1.88, 0.35, 1.53]\n"
     ]
    }
   ],
   "source": [
    "# Znajdowanie pierwiastkow metoda Brent’s\n",
    "solutions_b = [brentq(function_b, -0.5, 0.5), brentq(function_b, -2, -1.5), brentq(function_b, 1, 2)]\n",
    "solutions_b.sort()\n",
    "\n",
    "print(\"Pierwiastki jakie znalazlem: \", solutions_b)\n",
    "print(\"Orginalne pierwiastki: \", exact_values_b)"
   ],
   "metadata": {
    "collapsed": false
   }
  },
  {
   "cell_type": "markdown",
   "source": [
    "### Rozpatrzenie podpunktu c"
   ],
   "metadata": {
    "collapsed": false
   }
  },
  {
   "cell_type": "code",
   "execution_count": 686,
   "outputs": [
    {
     "name": "stdout",
     "output_type": "stream",
     "text": [
      "Pierwiastki jakie znalazlem:  [1.148698354997035]\n",
      "Orginalne pierwiastki:  [1.15]\n"
     ]
    }
   ],
   "source": [
    "solutions_c = [newton(function_c, x0_c, function_c_prim,maxiter=100)]\n",
    "\n",
    "print(\"Pierwiastki jakie znalazlem: \", solutions_c)\n",
    "print(\"Orginalne pierwiastki: \", exact_values_c)"
   ],
   "metadata": {
    "collapsed": false
   }
  },
  {
   "cell_type": "markdown",
   "source": [
    "### Rozpatrzenie podpunktu d"
   ],
   "metadata": {
    "collapsed": false
   }
  },
  {
   "cell_type": "code",
   "execution_count": 687,
   "outputs": [
    {
     "name": "stdout",
     "output_type": "stream",
     "text": [
      "Pierwiastki jakie znalazlem:  [-2.3, 2.3]\n",
      "Orginalne pierwiastki:  [-2.3, 2.3]\n"
     ]
    }
   ],
   "source": [
    "solutions_d = [newton(function_d, 1.2, function_d_prim), np.abs(newton(function_d, 1.2, function_d_prim))]\n",
    "\n",
    "print(\"Pierwiastki jakie znalazlem: \", solutions_d)\n",
    "print(\"Orginalne pierwiastki: \", exact_values_d)"
   ],
   "metadata": {
    "collapsed": false
   }
  },
  {
   "cell_type": "markdown",
   "source": [],
   "metadata": {
    "collapsed": false
   }
  },
  {
   "cell_type": "code",
   "execution_count": 688,
   "outputs": [],
   "source": [
    "def calculate_error(errors, solutions,exact_solutions):\n",
    "    for i in range(len(solutions)):\n",
    "        error = np.abs(solutions[i] - exact_solutions[i])\n",
    "        errors.append(error)"
   ],
   "metadata": {
    "collapsed": false
   }
  },
  {
   "cell_type": "markdown",
   "source": [
    "### Policzenie bledu wzglednego"
   ],
   "metadata": {
    "collapsed": false
   }
  },
  {
   "cell_type": "code",
   "execution_count": 689,
   "outputs": [
    {
     "name": "stdout",
     "output_type": "stream",
     "text": [
      "Sredni bład bezwzgledny liczac miejsca zerowe funkcji A wynosi: \n",
      " 0.0026213483334736054\n",
      "Sredni bład bezwzgledny liczac miejsca zerowe funkcji B wynosi: \n",
      " 0.00180242977755742\n",
      "Sredni bład bezwzgledny liczac miejsca zerowe funkcji C wynosi: \n",
      " 0.001301645002964813\n",
      "Sredni bład bezwzgledny liczac miejsca zerowe funkcji D wynosi: \n",
      " 0.0\n"
     ]
    }
   ],
   "source": [
    "errors_a = []\n",
    "errors_b = []\n",
    "errors_c = []\n",
    "errors_d = []\n",
    "\n",
    "calculate_error(errors_a, solutions_a, exact_values_a)\n",
    "calculate_error(errors_b, solutions_b, exact_values_b)\n",
    "calculate_error(errors_c, solutions_c, exact_values_c)\n",
    "calculate_error(errors_d, solutions_d, exact_values_d)\n",
    "\n",
    "print(\"Sredni bład bezwzgledny liczac miejsca zerowe funkcji A wynosi: \\n\",np.mean(errors_a ))\n",
    "print(\"Sredni bład bezwzgledny liczac miejsca zerowe funkcji B wynosi: \\n\",np.mean(errors_b))\n",
    "print(\"Sredni bład bezwzgledny liczac miejsca zerowe funkcji C wynosi: \\n\",np.mean(errors_c))\n",
    "print(\"Sredni bład bezwzgledny liczac miejsca zerowe funkcji D wynosi: \\n\",np.mean(errors_d))"
   ],
   "metadata": {
    "collapsed": false
   }
  }
 ],
 "metadata": {
  "kernelspec": {
   "display_name": "Python 3",
   "language": "python",
   "name": "python3"
  },
  "language_info": {
   "codemirror_mode": {
    "name": "ipython",
    "version": 2
   },
   "file_extension": ".py",
   "mimetype": "text/x-python",
   "name": "python",
   "nbconvert_exporter": "python",
   "pygments_lexer": "ipython2",
   "version": "2.7.6"
  }
 },
 "nbformat": 4,
 "nbformat_minor": 0
}
