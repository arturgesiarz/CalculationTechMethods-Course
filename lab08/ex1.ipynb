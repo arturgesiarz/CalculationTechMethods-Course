{
 "cells": [
  {
   "cell_type": "markdown",
   "source": [
    "# Zestaw zadań: Rozwiązywanie równań nieliniowych\n",
    "## Zadanie 1\n",
    "### Autor: Artur Gęsiarz"
   ],
   "metadata": {
    "collapsed": false
   }
  },
  {
   "cell_type": "code",
   "execution_count": null,
   "outputs": [],
   "source": [
    "from scipy.optimize import newton"
   ],
   "metadata": {
    "collapsed": false
   }
  },
  {
   "cell_type": "markdown",
   "source": [
    "### Implementacja funkcji podanych w zadaniu"
   ],
   "metadata": {
    "collapsed": false
   }
  },
  {
   "cell_type": "code",
   "execution_count": null,
   "outputs": [],
   "source": [
    "def function_a(x):\n",
    "    \"\"\"\n",
    "    Funkcja a) z zadania 1\n",
    "    :param x:\n",
    "    :return:\n",
    "    \"\"\"\n",
    "    return x ** 3 - 5 * x"
   ],
   "metadata": {
    "collapsed": false
   }
  },
  {
   "cell_type": "code",
   "execution_count": null,
   "outputs": [],
   "source": [
    "def function_b(x):\n",
    "    \"\"\"\n",
    "    Funkcja b) z zadania 1\n",
    "    :param x:\n",
    "    :return:\n",
    "    \"\"\"\n",
    "    return x ** 3 - 3 * x + 1"
   ],
   "metadata": {
    "collapsed": false
   }
  },
  {
   "cell_type": "code",
   "execution_count": null,
   "outputs": [],
   "source": [
    "def function_c(x):\n",
    "    \"\"\"\n",
    "    Funkcja c) z zadania 1\n",
    "    :param x:\n",
    "    :return:\n",
    "    \"\"\"\n",
    "    return 2 - x ** 5"
   ],
   "metadata": {
    "collapsed": false
   }
  },
  {
   "cell_type": "code",
   "execution_count": null,
   "outputs": [],
   "source": [
    "def function_d(x):\n",
    "    \"\"\"\n",
    "    Funkcja d) z zadania 1\n",
    "    :param x:\n",
    "    :return:\n",
    "    \"\"\"\n",
    "    return x ** 4 - 4.29 * x ** 2 - 5.29"
   ],
   "metadata": {
    "collapsed": false
   }
  },
  {
   "cell_type": "markdown",
   "source": [
    "### Pocztkowe przyblizenia"
   ],
   "metadata": {
    "collapsed": false
   }
  },
  {
   "cell_type": "code",
   "execution_count": null,
   "outputs": [],
   "source": [],
   "metadata": {
    "collapsed": false
   }
  }
 ],
 "metadata": {
  "kernelspec": {
   "display_name": "Python 3",
   "language": "python",
   "name": "python3"
  },
  "language_info": {
   "codemirror_mode": {
    "name": "ipython",
    "version": 2
   },
   "file_extension": ".py",
   "mimetype": "text/x-python",
   "name": "python",
   "nbconvert_exporter": "python",
   "pygments_lexer": "ipython2",
   "version": "2.7.6"
  }
 },
 "nbformat": 4,
 "nbformat_minor": 0
}
