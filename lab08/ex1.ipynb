{
 "cells": [
  {
   "cell_type": "markdown",
   "source": [
    "# Zestaw zadań: Rozwiązywanie równań nieliniowych\n",
    "## Zadanie 1\n",
    "### Autor: Artur Gęsiarz"
   ],
   "metadata": {
    "collapsed": false
   }
  },
  {
   "cell_type": "code",
   "execution_count": 40,
   "outputs": [],
   "source": [
    "from scipy.optimize import newton"
   ],
   "metadata": {
    "collapsed": false
   }
  },
  {
   "cell_type": "markdown",
   "source": [
    "### Implementacja funkcji podanych w zadaniu"
   ],
   "metadata": {
    "collapsed": false
   }
  },
  {
   "cell_type": "code",
   "execution_count": 41,
   "outputs": [],
   "source": [
    "def function_a(x):\n",
    "    \"\"\"\n",
    "    Funkcja a) z zadania 1\n",
    "    :param x:\n",
    "    :return:\n",
    "    \"\"\"\n",
    "    return x ** 3 - 5 * x"
   ],
   "metadata": {
    "collapsed": false
   }
  },
  {
   "cell_type": "code",
   "execution_count": 42,
   "outputs": [],
   "source": [
    "def function_b(x):\n",
    "    \"\"\"\n",
    "    Funkcja b) z zadania 1\n",
    "    :param x:\n",
    "    :return:\n",
    "    \"\"\"\n",
    "    return x ** 3 - 3 * x + 1"
   ],
   "metadata": {
    "collapsed": false
   }
  },
  {
   "cell_type": "code",
   "execution_count": 43,
   "outputs": [],
   "source": [
    "def function_c(x):\n",
    "    \"\"\"\n",
    "    Funkcja c) z zadania 1\n",
    "    :param x:\n",
    "    :return:\n",
    "    \"\"\"\n",
    "    return 2 - x ** 5"
   ],
   "metadata": {
    "collapsed": false
   }
  },
  {
   "cell_type": "code",
   "execution_count": 44,
   "outputs": [],
   "source": [
    "def function_d(x):\n",
    "    \"\"\"\n",
    "    Funkcja d) z zadania 1\n",
    "    :param x:\n",
    "    :return:\n",
    "    \"\"\"\n",
    "    return x ** 4 - 4.29 * x ** 2 - 5.29"
   ],
   "metadata": {
    "collapsed": false
   }
  },
  {
   "cell_type": "markdown",
   "source": [
    "### Pocztkowe przyblizenia"
   ],
   "metadata": {
    "collapsed": false
   }
  },
  {
   "cell_type": "code",
   "execution_count": 45,
   "outputs": [],
   "source": [
    "x0_a = 1\n",
    "x0_b = 1\n",
    "x0_c = 0.01\n",
    "x0_d = 0.8"
   ],
   "metadata": {
    "collapsed": false
   }
  },
  {
   "cell_type": "markdown",
   "source": [
    "### Rozwiazanie równan nieliniowych"
   ],
   "metadata": {
    "collapsed": false
   }
  },
  {
   "cell_type": "code",
   "execution_count": 46,
   "outputs": [],
   "source": [
    "solution_a = newton(function_a, x0_a)\n",
    "solution_b = newton(function_b, x0_b)\n",
    "solution_c = newton(function_c, x0_c)\n",
    "solution_d = newton(function_d, x0_d)"
   ],
   "metadata": {
    "collapsed": false
   }
  },
  {
   "cell_type": "markdown",
   "source": [
    "### Wyswietlanie otrzymanych wynikow"
   ],
   "metadata": {
    "collapsed": false
   }
  },
  {
   "cell_type": "code",
   "execution_count": 47,
   "outputs": [
    {
     "name": "stdout",
     "output_type": "stream",
     "text": [
      "Rozwiązanie dla funkcji a: 4.744493466790075e-24\n",
      "Rozwiązanie dla funkcji b: 1.0000007188230098\n",
      "Rozwiązanie dla funkcji c: 0.01\n",
      "Rozwiązanie dla funkcji d: -0.7870232540616441\n"
     ]
    }
   ],
   "source": [
    "print(\"Rozwiązanie dla funkcji a:\", solution_a)\n",
    "print(\"Rozwiązanie dla funkcji b:\", solution_b)\n",
    "print(\"Rozwiązanie dla funkcji c:\", solution_c)\n",
    "print(\"Rozwiązanie dla funkcji d:\", solution_d)"
   ],
   "metadata": {
    "collapsed": false
   }
  }
 ],
 "metadata": {
  "kernelspec": {
   "display_name": "Python 3",
   "language": "python",
   "name": "python3"
  },
  "language_info": {
   "codemirror_mode": {
    "name": "ipython",
    "version": 2
   },
   "file_extension": ".py",
   "mimetype": "text/x-python",
   "name": "python",
   "nbconvert_exporter": "python",
   "pygments_lexer": "ipython2",
   "version": "2.7.6"
  }
 },
 "nbformat": 4,
 "nbformat_minor": 0
}
