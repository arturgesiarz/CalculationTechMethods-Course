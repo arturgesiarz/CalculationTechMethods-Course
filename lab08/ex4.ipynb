{
 "cells": [
  {
   "cell_type": "markdown",
   "source": [
    "# Zestaw zadań: Rozwiązywanie równań nieliniowych\n",
    "## Zadanie 4\n",
    "### Autor: Artur Gęsiarz"
   ],
   "metadata": {
    "collapsed": false
   }
  },
  {
   "cell_type": "code",
   "execution_count": 14,
   "outputs": [],
   "source": [
    "import numpy as np"
   ],
   "metadata": {
    "collapsed": false
   }
  },
  {
   "cell_type": "code",
   "execution_count": 15,
   "outputs": [],
   "source": [
    "def function_1(x_1,x_2):\n",
    "    return x_1 ** 2 + x_2 ** 2 - 1"
   ],
   "metadata": {
    "collapsed": false
   }
  },
  {
   "cell_type": "code",
   "execution_count": 16,
   "outputs": [],
   "source": [
    "def function_2(x_1,x_2):\n",
    "    return x_1 ** 2 - x_2"
   ],
   "metadata": {
    "collapsed": false
   }
  },
  {
   "cell_type": "code",
   "execution_count": 17,
   "outputs": [],
   "source": [
    "def jacobian(x_1, x_2):\n",
    "    return np.array([[2 * x_1, 2 * x_2], [2 * x_1, -1]])"
   ],
   "metadata": {
    "collapsed": false
   }
  },
  {
   "cell_type": "code",
   "execution_count": 18,
   "outputs": [],
   "source": [
    "def newton_system(f1, f2, jacobian, x0, tolerance=1e-8, max_iterations=1000):\n",
    "    x = np.array(x0, dtype=float)\n",
    "\n",
    "    for _ in range(max_iterations):\n",
    "        f = np.array([f1(x[0], x[1]), f2(x[0], x[1])])\n",
    "        J = jacobian(x[0], x[1])\n",
    "        delta_x = np.linalg.solve(J, -f)\n",
    "        x += delta_x\n",
    "        if np.linalg.norm(delta_x) < tolerance:\n",
    "            return x, _\n",
    "\n",
    "    raise ValueError(\"Metoda Newtona nie zbiega się\")"
   ],
   "metadata": {
    "collapsed": false
   }
  },
  {
   "cell_type": "markdown",
   "source": [
    "### Dokladnie rozwiazania"
   ],
   "metadata": {
    "collapsed": false
   }
  },
  {
   "cell_type": "code",
   "execution_count": 19,
   "outputs": [],
   "source": [
    "exact_solution_1 = np.sqrt(np.sqrt(5)/2 - 0.5)\n",
    "exact_solution_2 = np.sqrt(5)/2 - 0.5"
   ],
   "metadata": {
    "collapsed": false
   }
  },
  {
   "cell_type": "markdown",
   "source": [
    "### Obliczenia"
   ],
   "metadata": {
    "collapsed": false
   }
  },
  {
   "cell_type": "code",
   "execution_count": 20,
   "outputs": [],
   "source": [
    "x0 = [1, 1]\n",
    "solution, iterations = newton_system(function_1, function_2, jacobian, x0)"
   ],
   "metadata": {
    "collapsed": false
   }
  },
  {
   "cell_type": "markdown",
   "source": [
    "### Obliczenie bledu wzglednego"
   ],
   "metadata": {
    "collapsed": false
   }
  },
  {
   "cell_type": "code",
   "execution_count": 21,
   "outputs": [],
   "source": [
    "relative_error_1 = abs(solution[0] - exact_solution_1) / abs(exact_solution_1)\n",
    "relative_error_2 = abs(solution[1] - exact_solution_2) / abs(exact_solution_2)"
   ],
   "metadata": {
    "collapsed": false
   }
  },
  {
   "cell_type": "markdown",
   "source": [
    "### Wypisujemy rozwiazanie i liczbe iteracji"
   ],
   "metadata": {
    "collapsed": false
   }
  },
  {
   "cell_type": "code",
   "execution_count": 22,
   "outputs": [
    {
     "name": "stdout",
     "output_type": "stream",
     "text": [
      "Rozwiązanie: [0.78615138 0.61803399]\n",
      "Liczba iteracji: 4\n",
      "Błąd względny x1: 0.0\n",
      "Błąd względny x2: 1.7963785889362146e-16\n"
     ]
    }
   ],
   "source": [
    "print(\"Rozwiązanie:\", solution)\n",
    "print(\"Liczba iteracji:\", iterations)\n",
    "print(\"Błąd względny x1:\", relative_error_1)\n",
    "print(\"Błąd względny x2:\", relative_error_2)"
   ],
   "metadata": {
    "collapsed": false
   }
  }
 ],
 "metadata": {
  "kernelspec": {
   "display_name": "Python 3",
   "language": "python",
   "name": "python3"
  },
  "language_info": {
   "codemirror_mode": {
    "name": "ipython",
    "version": 2
   },
   "file_extension": ".py",
   "mimetype": "text/x-python",
   "name": "python",
   "nbconvert_exporter": "python",
   "pygments_lexer": "ipython2",
   "version": "2.7.6"
  }
 },
 "nbformat": 4,
 "nbformat_minor": 0
}
