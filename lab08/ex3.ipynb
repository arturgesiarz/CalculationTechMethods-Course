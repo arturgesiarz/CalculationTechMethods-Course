{
 "cells": [
  {
   "cell_type": "markdown",
   "source": [
    "# Zestaw zadań: Rozwiązywanie równań nieliniowych\n",
    "## Zadanie 3\n",
    "### Autor: Artur Gęsiarz"
   ],
   "metadata": {
    "collapsed": false
   }
  },
  {
   "cell_type": "code",
   "execution_count": 79,
   "outputs": [],
   "source": [
    "import numpy as np\n",
    "from scipy.optimize import newton"
   ],
   "metadata": {
    "collapsed": false
   }
  },
  {
   "cell_type": "markdown",
   "source": [
    "### Rownania nielinowe oraz ich pochodne"
   ],
   "metadata": {
    "collapsed": false
   }
  },
  {
   "cell_type": "code",
   "execution_count": 80,
   "outputs": [],
   "source": [
    "def function_a(x):\n",
    "    return x ** 3 - 2 * x - 5"
   ],
   "metadata": {
    "collapsed": false
   }
  },
  {
   "cell_type": "code",
   "execution_count": 81,
   "outputs": [],
   "source": [
    "def function_a_prim(x):\n",
    "    return 3 * x ** 2 - 2"
   ],
   "metadata": {
    "collapsed": false
   }
  },
  {
   "cell_type": "code",
   "execution_count": 82,
   "outputs": [],
   "source": [
    "def function_b(x):\n",
    "    return np.exp(-x) - x"
   ],
   "metadata": {
    "collapsed": false
   }
  },
  {
   "cell_type": "code",
   "execution_count": 83,
   "outputs": [],
   "source": [
    "def function_b_prim(x):\n",
    "    return -np.exp(-x) - 1"
   ],
   "metadata": {
    "collapsed": false
   }
  },
  {
   "cell_type": "code",
   "execution_count": 84,
   "outputs": [],
   "source": [
    "def function_c(x):\n",
    "    return x * np.sin(x) - 1"
   ],
   "metadata": {
    "collapsed": false
   }
  },
  {
   "cell_type": "code",
   "execution_count": 85,
   "outputs": [],
   "source": [
    "def function_c_prim(x):\n",
    "    return np.sin(x) + x * np.cos(x)"
   ],
   "metadata": {
    "collapsed": false
   }
  },
  {
   "cell_type": "markdown",
   "source": [
    "### Funkcja iteracji metoda Newtona"
   ],
   "metadata": {
    "collapsed": false
   }
  },
  {
   "cell_type": "code",
   "execution_count": 86,
   "outputs": [],
   "source": [
    "def newton_iteration(f, f_prime, x0, tolerance, max_iteration=100000):\n",
    "    x_k = x0\n",
    "    iterations = 0\n",
    "    while iterations < max_iteration:\n",
    "        x_next = x_k - f(x_k) / f_prime(x_k)\n",
    "        iterations += 1\n",
    "        if abs(x_next - x_k) <= tolerance and np.abs(f(x_k)) <= tolerance:\n",
    "            break\n",
    "        x_k = x_next\n",
    "    return x_next, iterations"
   ],
   "metadata": {
    "collapsed": false
   }
  },
  {
   "cell_type": "markdown",
   "source": [
    "### Obliczanie liczby iteracji dla kazdego rownania i dokladnosci"
   ],
   "metadata": {
    "collapsed": false
   }
  },
  {
   "cell_type": "markdown",
   "source": [
    "#### Dane dokladnosci"
   ],
   "metadata": {
    "collapsed": false
   }
  },
  {
   "cell_type": "code",
   "execution_count": 87,
   "outputs": [],
   "source": [
    "tolerance_24_bit = 1 / 2 ** 24\n",
    "tolerance_53_bit = 1 / 2 ** 53\n",
    "x_0 = 1.0"
   ],
   "metadata": {
    "collapsed": false
   }
  },
  {
   "cell_type": "markdown",
   "source": [
    "### Obliczenie liczby iteracji dla kazdego rownania i dokladnosci"
   ],
   "metadata": {
    "collapsed": false
   }
  },
  {
   "cell_type": "code",
   "execution_count": 88,
   "outputs": [],
   "source": [
    "result_a_24_bit, iterations_a_24_bit = newton_iteration(function_a, function_a_prim, x_0, tolerance_24_bit)\n",
    "result_b_24_bit, iterations_b_24_bit = newton_iteration(function_b, function_b_prim, x_0, tolerance_24_bit)\n",
    "result_c_24_bit, iterations_c_24_bit = newton_iteration(function_c, function_c_prim, x_0, tolerance_24_bit)\n",
    "\n",
    "result_a_53_bit, iterations_a_53_bit = newton_iteration(function_a, function_a_prim, x_0, tolerance_53_bit)\n",
    "result_b_53_bit, iterations_b_53_bit = newton_iteration(function_b, function_b_prim, x_0, tolerance_53_bit)\n",
    "result_c_53_bit, iterations_c_53_bit = newton_iteration(function_c, function_c_prim, x_0, tolerance_53_bit)"
   ],
   "metadata": {
    "collapsed": false
   }
  },
  {
   "cell_type": "markdown",
   "source": [
    "### Wyświetlenie wyników"
   ],
   "metadata": {
    "collapsed": false
   }
  },
  {
   "cell_type": "code",
   "execution_count": 89,
   "outputs": [
    {
     "name": "stdout",
     "output_type": "stream",
     "text": [
      "24-bitowa dokładność:\n",
      "Dla równania (a): Liczba iteracji = 9 , Wynik = 2.0945514815423265\n",
      "Dla równania (b): Liczba iteracji = 4 , Wynik = 0.5671432904097838\n",
      "Dla równania (c): Liczba iteracji = 3 , Wynik = 1.11415714087193\n",
      "\n",
      "53-bitowa dokładność:\n",
      "Dla równania (a): Liczba iteracji = 100000 , Wynik = 2.0945514815423265\n",
      "Dla równania (b): Liczba iteracji = 5 , Wynik = 0.5671432904097838\n",
      "Dla równania (c): Liczba iteracji = 100000 , Wynik = 1.1141571408719302\n"
     ]
    }
   ],
   "source": [
    "print(\"24-bitowa dokładność:\")\n",
    "print(\"Dla równania (a): Liczba iteracji =\", iterations_a_24_bit, \", Wynik =\", result_a_24_bit)\n",
    "print(\"Dla równania (b): Liczba iteracji =\", iterations_b_24_bit, \", Wynik =\", result_b_24_bit)\n",
    "print(\"Dla równania (c): Liczba iteracji =\", iterations_c_24_bit, \", Wynik =\", result_c_24_bit)\n",
    "\n",
    "print(\"\\n53-bitowa dokładność:\")\n",
    "print(\"Dla równania (a): Liczba iteracji =\", iterations_a_53_bit, \", Wynik =\", result_a_53_bit)\n",
    "print(\"Dla równania (b): Liczba iteracji =\", iterations_b_53_bit, \", Wynik =\", result_b_53_bit)\n",
    "print(\"Dla równania (c): Liczba iteracji =\", iterations_c_53_bit, \", Wynik =\", result_c_53_bit)\n",
    "\n",
    "# szum numerczyny !! wnioski (teroretyczna analiza)"
   ],
   "metadata": {
    "collapsed": false
   }
  }
 ],
 "metadata": {
  "kernelspec": {
   "display_name": "Python 3",
   "language": "python",
   "name": "python3"
  },
  "language_info": {
   "codemirror_mode": {
    "name": "ipython",
    "version": 2
   },
   "file_extension": ".py",
   "mimetype": "text/x-python",
   "name": "python",
   "nbconvert_exporter": "python",
   "pygments_lexer": "ipython2",
   "version": "2.7.6"
  }
 },
 "nbformat": 4,
 "nbformat_minor": 0
}
