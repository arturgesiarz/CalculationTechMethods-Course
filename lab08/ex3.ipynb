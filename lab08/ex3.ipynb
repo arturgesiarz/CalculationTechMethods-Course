{
 "cells": [
  {
   "cell_type": "markdown",
   "source": [
    "# Zestaw zadań: Rozwiązywanie równań nieliniowych\n",
    "## Zadanie 3\n",
    "### Autor: Artur Gęsiarz"
   ],
   "metadata": {
    "collapsed": false
   }
  },
  {
   "cell_type": "code",
   "execution_count": 137,
   "outputs": [],
   "source": [
    "import numpy as np\n",
    "from scipy.optimize import newton"
   ],
   "metadata": {
    "collapsed": false
   }
  },
  {
   "cell_type": "markdown",
   "source": [
    "### Rownania nielinowe oraz ich pochodne"
   ],
   "metadata": {
    "collapsed": false
   }
  },
  {
   "cell_type": "code",
   "execution_count": 138,
   "outputs": [],
   "source": [
    "def function_a(x):\n",
    "    return x ** 3 - 2 * x - 5"
   ],
   "metadata": {
    "collapsed": false
   }
  },
  {
   "cell_type": "code",
   "execution_count": 139,
   "outputs": [],
   "source": [
    "def function_a_prim(x):\n",
    "    return 3 * x ** 2 - 2"
   ],
   "metadata": {
    "collapsed": false
   }
  },
  {
   "cell_type": "code",
   "execution_count": 140,
   "outputs": [],
   "source": [
    "def function_b(x):\n",
    "    return np.exp(-x) - x"
   ],
   "metadata": {
    "collapsed": false
   }
  },
  {
   "cell_type": "code",
   "execution_count": 141,
   "outputs": [],
   "source": [
    "def function_b_prim(x):\n",
    "    return -np.exp(-x) - 1"
   ],
   "metadata": {
    "collapsed": false
   }
  },
  {
   "cell_type": "code",
   "execution_count": 142,
   "outputs": [],
   "source": [
    "def function_c(x):\n",
    "    return x * np.sin(x) - 1"
   ],
   "metadata": {
    "collapsed": false
   }
  },
  {
   "cell_type": "code",
   "execution_count": 143,
   "outputs": [],
   "source": [
    "def function_c_prim(x):\n",
    "    return np.sin(x) + x * np.cos(x)"
   ],
   "metadata": {
    "collapsed": false
   }
  },
  {
   "cell_type": "markdown",
   "source": [
    "### Funkcja iteracji metoda Newtona"
   ],
   "metadata": {
    "collapsed": false
   }
  },
  {
   "cell_type": "code",
   "execution_count": 144,
   "outputs": [],
   "source": [
    "def newton_method(f, f_prime, x0, tol=1e-10, max_iter=1000):\n",
    "    x = x0\n",
    "    for iter in range(max_iter):\n",
    "        fx = f(x)\n",
    "        fpx = f_prime(x)\n",
    "        if fpx == 0:\n",
    "            raise ValueError(\"Pochodna wynosi zero, metoda Newtona nie może być zastosowana.\")\n",
    "        x_new = x - fx / fpx\n",
    "        if abs(x_new - x) < tol:\n",
    "            return x_new,iter\n",
    "        x = x_new\n",
    "    return x_new,iter"
   ],
   "metadata": {
    "collapsed": false
   }
  },
  {
   "cell_type": "markdown",
   "source": [
    "### Obliczanie liczby iteracji dla kazdego rownania i dokladnosci"
   ],
   "metadata": {
    "collapsed": false
   }
  },
  {
   "cell_type": "markdown",
   "source": [
    "#### Dane dokladnosci"
   ],
   "metadata": {
    "collapsed": false
   }
  },
  {
   "cell_type": "code",
   "execution_count": 145,
   "outputs": [],
   "source": [
    "tolerance_24_bit = 1 / 2 ** 24\n",
    "tolerance_53_bit = 1 / 2 ** 53"
   ],
   "metadata": {
    "collapsed": false
   }
  },
  {
   "cell_type": "markdown",
   "source": [
    "### Pryzlizenia poczatkowe dla a,b,c"
   ],
   "metadata": {
    "collapsed": false
   }
  },
  {
   "cell_type": "code",
   "execution_count": 146,
   "outputs": [],
   "source": [
    "x0_a = 2.0  # Przybliżenie początkowe dla (a)\n",
    "x0_b = 0.5  # Przybliżenie początkowe dla (b)\n",
    "x0_c = 1.0  # Przybliżenie początkowe dla (c)"
   ],
   "metadata": {
    "collapsed": false
   }
  },
  {
   "cell_type": "markdown",
   "source": [
    "### Obliczenie pierwiastkow rownnania"
   ],
   "metadata": {
    "collapsed": false
   }
  },
  {
   "cell_type": "code",
   "execution_count": 147,
   "outputs": [],
   "source": [
    "root_a,_ = newton_method(function_a, function_a_prim, x0_a)\n",
    "root_b,_ = newton_method(function_b, function_b_prim, x0_b)\n",
    "root_c,_ = newton_method(function_c, function_c_prim, x0_c)"
   ],
   "metadata": {
    "collapsed": false
   }
  },
  {
   "cell_type": "code",
   "execution_count": 148,
   "outputs": [
    {
     "name": "stdout",
     "output_type": "stream",
     "text": [
      "Pierwiastek równania (a): 2.0945514815423265\n",
      "Pierwiastek równania (b): 0.567143290409784\n",
      "Pierwiastek równania (c): 1.1141571408719302\n"
     ]
    }
   ],
   "source": [
    "print(f\"Pierwiastek równania (a): {root_a}\")\n",
    "print(f\"Pierwiastek równania (b): {root_b}\")\n",
    "print(f\"Pierwiastek równania (c): {root_c}\")"
   ],
   "metadata": {
    "collapsed": false
   }
  },
  {
   "cell_type": "markdown",
   "source": [
    "### Obliczenie dla konretnych toleracji"
   ],
   "metadata": {
    "collapsed": false
   }
  },
  {
   "cell_type": "code",
   "execution_count": 149,
   "outputs": [],
   "source": [
    "root_a_24bit, iter_a_24bit = newton_method(function_a, function_a_prim, x0_a, tolerance_24_bit)\n",
    "root_b_24bit, iter_b_24bit = newton_method(function_b, function_b_prim, x0_b, tolerance_24_bit)\n",
    "root_c_24bit, iter_c_24bit = newton_method(function_c, function_c_prim, x0_c, tolerance_24_bit)\n",
    "\n",
    "root_a_53bit, iter_a_53bit = newton_method(function_a, function_a_prim, x0_a, tolerance_53_bit)\n",
    "root_b_53bit, iter_b_53bit = newton_method(function_b, function_b_prim, x0_b, tolerance_53_bit)\n",
    "root_c_53bit, iter_c_53bit = newton_method(function_c, function_c_prim, x0_c, tolerance_53_bit)"
   ],
   "metadata": {
    "collapsed": false
   }
  },
  {
   "cell_type": "markdown",
   "source": [
    "### Wyświetlenie wyników"
   ],
   "metadata": {
    "collapsed": false
   }
  },
  {
   "cell_type": "code",
   "execution_count": 150,
   "outputs": [
    {
     "name": "stdout",
     "output_type": "stream",
     "text": [
      "24-bitowa dokładność:\n",
      "Dla równania (a): wynik = 2.0945514815423265 , liczba iteracji = 3\n",
      "Dla równania (b): wynik = 0.567143290409784 , liczba iteracji = 3\n",
      "Dla równania (c): wynik = 1.11415714087193 , liczba iteracji = 2\n",
      "\n",
      "53-bitowa dokładność:\n",
      "Dla równania (a): wynik = 2.0945514815423265 , liczba iteracji = 4\n",
      "Dla równania (b): wynik = 0.5671432904097838 , liczba iteracji = 5\n",
      "Dla równania (c): wynik = 1.1141571408719302 , liczba iteracji = 999\n"
     ]
    }
   ],
   "source": [
    "print(\"24-bitowa dokładność:\")\n",
    "print(\"Dla równania (a): wynik =\", root_a_24bit, \", liczba iteracji =\", iter_a_24bit)\n",
    "print(\"Dla równania (b): wynik =\", root_b_24bit, \", liczba iteracji =\", iter_b_24bit)\n",
    "print(\"Dla równania (c): wynik =\", root_c_24bit, \", liczba iteracji =\", iter_c_24bit)\n",
    "\n",
    "print(\"\\n53-bitowa dokładność:\")\n",
    "print(\"Dla równania (a): wynik =\", root_a_53bit, \", liczba iteracji =\", iter_a_53bit)\n",
    "print(\"Dla równania (b): wynik =\", root_b_53bit, \", liczba iteracji =\", iter_b_53bit)\n",
    "print(\"Dla równania (c): wynik =\", root_c_53bit, \", liczba iteracji =\", iter_c_53bit)"
   ],
   "metadata": {
    "collapsed": false
   }
  }
 ],
 "metadata": {
  "kernelspec": {
   "display_name": "Python 3",
   "language": "python",
   "name": "python3"
  },
  "language_info": {
   "codemirror_mode": {
    "name": "ipython",
    "version": 2
   },
   "file_extension": ".py",
   "mimetype": "text/x-python",
   "name": "python",
   "nbconvert_exporter": "python",
   "pygments_lexer": "ipython2",
   "version": "2.7.6"
  }
 },
 "nbformat": 4,
 "nbformat_minor": 0
}
