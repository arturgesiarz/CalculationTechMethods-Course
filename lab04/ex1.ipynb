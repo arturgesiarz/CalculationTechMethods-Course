{
 "cells": [
  {
   "cell_type": "markdown",
   "source": [
    "# Zestaw zadań: Efekt Rungego\n",
    "## Zadanie 1\n",
    "### Autor: Artur Gęsiarz"
   ],
   "metadata": {
    "collapsed": false
   }
  },
  {
   "cell_type": "code",
   "execution_count": 22,
   "outputs": [],
   "source": [
    "import numpy as np"
   ],
   "metadata": {
    "collapsed": false
   }
  },
  {
   "cell_type": "markdown",
   "source": [
    "### Funkcje Rungego"
   ],
   "metadata": {
    "collapsed": false
   }
  },
  {
   "cell_type": "code",
   "execution_count": 23,
   "outputs": [],
   "source": [
    "def f1(x):\n",
    "    return 1 / (1 + 25 * x ** 2)\n",
    "\n",
    "def f2(x):\n",
    "    return np.exp(np.cos(x))"
   ],
   "metadata": {
    "collapsed": false
   }
  },
  {
   "cell_type": "markdown",
   "source": [
    "### Węzły interpolacji równoodległe"
   ],
   "metadata": {
    "collapsed": false
   }
  },
  {
   "cell_type": "code",
   "execution_count": 24,
   "outputs": [],
   "source": [
    "def equidistant_nodes(n, a, b):\n",
    "    return np.linspace(a, b, n + 1)"
   ],
   "metadata": {
    "collapsed": false
   }
  },
  {
   "cell_type": "markdown",
   "source": [
    "### Węzły interpolacji Czebyszewa"
   ],
   "metadata": {
    "collapsed": false
   }
  },
  {
   "cell_type": "code",
   "execution_count": 25,
   "outputs": [],
   "source": [
    "def chebyshev_nodes(n, a, b):\n",
    "    theta = np.pi * (2 * np.arange(n + 1) + 1) / (2 * (n + 1))\n",
    "    return (a + b) / 2 + (b - a) / 2 * np.cos(theta)"
   ],
   "metadata": {
    "collapsed": false
   }
  },
  {
   "cell_type": "markdown",
   "source": [
    "### Metoda Lagrange'a"
   ],
   "metadata": {
    "collapsed": false
   }
  },
  {
   "cell_type": "code",
   "execution_count": 26,
   "outputs": [],
   "source": [
    "def lagrange_interpolation(x, nodes, values):\n",
    "    result = 0\n",
    "    n = len(nodes)\n",
    "    for i in range(n):\n",
    "        term = values[i]\n",
    "        for j in range(n):\n",
    "            if i != j:\n",
    "                term *= (x - nodes[j]) / (nodes[i] - nodes[j])\n",
    "        result += term\n",
    "    return result"
   ],
   "metadata": {
    "collapsed": false
   }
  },
  {
   "cell_type": "markdown",
   "source": [
    "### Próbkowanie funkcji"
   ],
   "metadata": {
    "collapsed": false
   }
  },
  {
   "cell_type": "code",
   "execution_count": 27,
   "outputs": [],
   "source": [
    "x_dense = np.linspace(-1, 1, 1000)\n",
    "y_dense = f1(x_dense)"
   ],
   "metadata": {
    "collapsed": false
   }
  },
  {
   "cell_type": "markdown",
   "source": [
    "### Liczba węzłów interpolacji"
   ],
   "metadata": {
    "collapsed": false
   }
  },
  {
   "cell_type": "code",
   "execution_count": 28,
   "outputs": [],
   "source": [
    "n = 12"
   ],
   "metadata": {
    "collapsed": false
   }
  },
  {
   "cell_type": "markdown",
   "source": [
    "### Węzły interpolacji"
   ],
   "metadata": {
    "collapsed": false
   }
  },
  {
   "cell_type": "code",
   "execution_count": 29,
   "outputs": [],
   "source": [
    "nodes_equidistant = equidistant_nodes(n, -1, 1)\n",
    "nodes_chebyshev = chebyshev_nodes(n, -1, 1)"
   ],
   "metadata": {
    "collapsed": false
   }
  },
  {
   "cell_type": "markdown",
   "source": [
    "### Wartościami funkcji w węzłach interpolacji"
   ],
   "metadata": {
    "collapsed": false
   }
  },
  {
   "cell_type": "code",
   "execution_count": 30,
   "outputs": [],
   "source": [
    "values_equidistant = f1(nodes_equidistant)\n",
    "values_chebyshev = f1(nodes_chebyshev)"
   ],
   "metadata": {
    "collapsed": false
   }
  }
 ],
 "metadata": {
  "kernelspec": {
   "display_name": "Python 3",
   "language": "python",
   "name": "python3"
  },
  "language_info": {
   "codemirror_mode": {
    "name": "ipython",
    "version": 2
   },
   "file_extension": ".py",
   "mimetype": "text/x-python",
   "name": "python",
   "nbconvert_exporter": "python",
   "pygments_lexer": "ipython2",
   "version": "2.7.6"
  }
 },
 "nbformat": 4,
 "nbformat_minor": 0
}
