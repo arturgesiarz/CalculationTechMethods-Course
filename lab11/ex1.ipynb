{
 "cells": [
  {
   "cell_type": "markdown",
   "source": [
    "# Zestaw zadań: Optymalizacja\n",
    "## Zadanie 1\n",
    "### Autor: Artur Gęsiarz"
   ],
   "metadata": {
    "collapsed": false
   }
  },
  {
   "cell_type": "code",
   "execution_count": 1244,
   "outputs": [],
   "source": [
    "import numpy as np\n",
    "from scipy.optimize import fsolve"
   ],
   "metadata": {
    "collapsed": false
   }
  },
  {
   "cell_type": "markdown",
   "source": [
    "### Implementacja funkcji"
   ],
   "metadata": {
    "collapsed": false
   }
  },
  {
   "cell_type": "code",
   "execution_count": 1245,
   "outputs": [],
   "source": [
    "def function_1(x,y):\n",
    "    return x ** 2 - 4 * x * y + y ** 2"
   ],
   "metadata": {
    "collapsed": false
   }
  },
  {
   "cell_type": "code",
   "execution_count": 1246,
   "outputs": [],
   "source": [
    "def function_2(x,y):\n",
    "    return x ** 4 - 4 * x * y + y ** 4"
   ],
   "metadata": {
    "collapsed": false
   }
  },
  {
   "cell_type": "code",
   "execution_count": 1247,
   "outputs": [],
   "source": [
    "def function_3(x,y):\n",
    "    return 2 * x ** 3 - 3 * x ** 2 - 6 * x * y * (x - y - 1)"
   ],
   "metadata": {
    "collapsed": false
   }
  },
  {
   "cell_type": "code",
   "execution_count": 1248,
   "outputs": [],
   "source": [
    "def function_4(x,y):\n",
    "    return (x - y) ** 4 + x ** 2 - y ** 2 - 2 * x + 2 * y + 1"
   ],
   "metadata": {
    "collapsed": false
   }
  },
  {
   "cell_type": "markdown",
   "source": [
    "### Obliczanie gradientow kolejnych funkcji"
   ],
   "metadata": {
    "collapsed": false
   }
  },
  {
   "cell_type": "markdown",
   "source": [
    "#### Gradienty sa obliczane w tablicy: [dx, dy]\n",
    "#### gdzie, pierwszym elementem w pochodna po x, a drugim elementem jest pochodna po y"
   ],
   "metadata": {
    "collapsed": false
   }
  },
  {
   "cell_type": "code",
   "execution_count": 1249,
   "outputs": [],
   "source": [
    "def grad_function_1(args):\n",
    "    x, y = args\n",
    "    return np.array([2 * x - 4 * y,\n",
    "                     2 * y - 4 * x])"
   ],
   "metadata": {
    "collapsed": false
   }
  },
  {
   "cell_type": "code",
   "execution_count": 1250,
   "outputs": [],
   "source": [
    "def grad_function_2(args):\n",
    "    x, y = args\n",
    "    return np.array([4 * x ** 3 - 4 * y,\n",
    "                     4 * y ** 3 - 4 * x])"
   ],
   "metadata": {
    "collapsed": false
   }
  },
  {
   "cell_type": "code",
   "execution_count": 1251,
   "outputs": [],
   "source": [
    "def grad_function_3(args):\n",
    "    x, y = args\n",
    "    return np.array([6 * x ** 2 - 6 * x - 12 * x * y + 6 * y ** 2 + 6 * y,\n",
    "                     -6 * x ** 2 + 12 * x * y + 6 * x])"
   ],
   "metadata": {
    "collapsed": false
   }
  },
  {
   "cell_type": "code",
   "execution_count": 1252,
   "outputs": [],
   "source": [
    "def grad_function_4(args):\n",
    "    x, y = args\n",
    "    return np.array([4 * (x - y) ** 3 + 2 * x - 2,\n",
    "                     -4 * (x - y) ** 3 - 2 * y + 2])"
   ],
   "metadata": {
    "collapsed": false
   }
  },
  {
   "cell_type": "markdown",
   "source": [
    "### Obliczenie punktow krytycznych"
   ],
   "metadata": {
    "collapsed": false
   }
  },
  {
   "cell_type": "code",
   "execution_count": 1253,
   "outputs": [],
   "source": [
    "critical_points = {\n",
    "    \"f1\" : np.array([(0,0)]),\n",
    "    \"f2\" : np.array([(-1, -1), (1, 1)]),\n",
    "    \"f3\" : np.array([(0, 0), (0, -1), (1, 0), (-1, -1)]),\n",
    "    \"f4\" : np.array([(5/2, 1)]),\n",
    "}"
   ],
   "metadata": {
    "collapsed": false
   }
  },
  {
   "cell_type": "markdown",
   "source": [
    "### Obliczanie hesjanow dla poszczegolnych funkcji"
   ],
   "metadata": {
    "collapsed": false
   }
  },
  {
   "cell_type": "code",
   "execution_count": 1254,
   "outputs": [],
   "source": [
    "def hessian_f1(x, y):\n",
    "    return np.array([[2, -4],\n",
    "                     [-4, 2]])"
   ],
   "metadata": {
    "collapsed": false
   }
  },
  {
   "cell_type": "code",
   "execution_count": 1255,
   "outputs": [],
   "source": [
    "def hessian_f2(x, y):\n",
    "    return np.array([[12 * x ** 2, -4],\n",
    "                     [-4, 12 * y ** 2]])"
   ],
   "metadata": {
    "collapsed": false
   }
  },
  {
   "cell_type": "code",
   "execution_count": 1256,
   "outputs": [],
   "source": [
    "def hessian_f3(x, y):\n",
    "    return np.array([[12 * x - 12 * y - 6, -12 * x + 12 * y + 6],\n",
    "                     [-12 * x + 12 * y + 6, 12 * x]])"
   ],
   "metadata": {
    "collapsed": false
   }
  },
  {
   "cell_type": "code",
   "execution_count": 1257,
   "outputs": [],
   "source": [
    "def hessian_f4(x, y):\n",
    "    return np.array([[12 * (x - y) ** 2 + 2, -12 * (x - y) ** 2],\n",
    "                     [-12 * (x - y) ** 2, 12 * (x - y) ** 2 - 2]])"
   ],
   "metadata": {
    "collapsed": false
   }
  },
  {
   "cell_type": "markdown",
   "source": [
    "### Funkcja kwalifukujaca punkty krytyczne"
   ],
   "metadata": {
    "collapsed": false
   }
  },
  {
   "cell_type": "code",
   "execution_count": 1258,
   "outputs": [],
   "source": [
    "def qualifications_points():\n",
    "    pass\n",
    "#todo"
   ],
   "metadata": {
    "collapsed": false
   }
  }
 ],
 "metadata": {
  "kernelspec": {
   "display_name": "Python 3",
   "language": "python",
   "name": "python3"
  },
  "language_info": {
   "codemirror_mode": {
    "name": "ipython",
    "version": 2
   },
   "file_extension": ".py",
   "mimetype": "text/x-python",
   "name": "python",
   "nbconvert_exporter": "python",
   "pygments_lexer": "ipython2",
   "version": "2.7.6"
  }
 },
 "nbformat": 4,
 "nbformat_minor": 0
}
