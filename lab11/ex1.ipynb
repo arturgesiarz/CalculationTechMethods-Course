{
 "cells": [
  {
   "cell_type": "markdown",
   "source": [
    "# Zestaw zadań: Optymalizacja\n",
    "## Zadanie 1\n",
    "### Autor: Artur Gęsiarz"
   ],
   "metadata": {
    "collapsed": false
   }
  },
  {
   "cell_type": "code",
   "execution_count": 1,
   "outputs": [],
   "source": [
    "import numpy as np"
   ],
   "metadata": {
    "collapsed": false
   }
  },
  {
   "cell_type": "markdown",
   "source": [
    "### Implementacja funkcji potrzebnych w zadaniu"
   ],
   "metadata": {
    "collapsed": false
   }
  },
  {
   "cell_type": "code",
   "execution_count": 2,
   "outputs": [],
   "source": [
    "def function_1(x, y):\n",
    "    return x ** 2 - 4 * x * y + y ** 2"
   ],
   "metadata": {
    "collapsed": false
   }
  },
  {
   "cell_type": "code",
   "execution_count": 3,
   "outputs": [],
   "source": [
    "def function_2(x, y):\n",
    "    return x ** 4 - 4 * x * y + y ** 4"
   ],
   "metadata": {
    "collapsed": false
   }
  },
  {
   "cell_type": "code",
   "execution_count": 4,
   "outputs": [],
   "source": [
    "def function_3(x, y):\n",
    "    return 2 * x ** 3 - 3 * x ** 2 - 6 * x * y * (x - y - 1)"
   ],
   "metadata": {
    "collapsed": false
   }
  },
  {
   "cell_type": "code",
   "execution_count": 5,
   "outputs": [],
   "source": [
    "def function_4(x, y):\n",
    "    return (x - y) ** 4 + x ** 2 - y ** 2 - 2 * x + 2 * y + 1"
   ],
   "metadata": {
    "collapsed": false
   }
  },
  {
   "cell_type": "markdown",
   "source": [
    "### Pochodne cząstkowe"
   ],
   "metadata": {
    "collapsed": false
   }
  },
  {
   "cell_type": "code",
   "execution_count": 6,
   "outputs": [],
   "source": [
    "def df_dx(func, x, y, h=1e-5):\n",
    "    return (func(x + h, y) - func(x, y)) / h\n",
    "\n",
    "def df_dy(func, x, y, h=1e-5):\n",
    "    return (func(x, y + h) - func(x, y)) / h"
   ],
   "metadata": {
    "collapsed": false
   }
  },
  {
   "cell_type": "markdown",
   "source": [
    "### Rozwiązanie równania df/dx = 0"
   ],
   "metadata": {
    "collapsed": false
   }
  },
  {
   "cell_type": "code",
   "execution_count": 7,
   "outputs": [],
   "source": [
    "def find_critical_points_dx(func, y, x_range, step=0.01):\n",
    "    critical_points = []\n",
    "    x = x_range[0]\n",
    "    while x <= x_range[1]:\n",
    "        dfdx = df_dx(func, x, y)\n",
    "        if abs(dfdx) < 1e-5:\n",
    "            critical_points.append((x, y))\n",
    "        x += step\n",
    "    return critical_points"
   ],
   "metadata": {
    "collapsed": false
   }
  },
  {
   "cell_type": "markdown",
   "source": [
    "### Rozwiązanie równania df/dy = 0"
   ],
   "metadata": {
    "collapsed": false
   }
  },
  {
   "cell_type": "code",
   "execution_count": 8,
   "outputs": [],
   "source": [
    "def find_critical_points_dy(func, x, y_range, step=0.01):\n",
    "    critical_points = []\n",
    "    y = y_range[0]\n",
    "    while y <= y_range[1]:\n",
    "        dfdy = df_dy(func, x, y)\n",
    "        if abs(dfdy) < 1e-5:\n",
    "            critical_points.append((x, y))\n",
    "        y += step\n",
    "    return critical_points"
   ],
   "metadata": {
    "collapsed": false
   }
  },
  {
   "cell_type": "markdown",
   "source": [
    "### Znajdowanie punktów krytycznych"
   ],
   "metadata": {
    "collapsed": false
   }
  },
  {
   "cell_type": "code",
   "execution_count": 9,
   "outputs": [],
   "source": [
    "def find_critical_points(func, x_range, y_range, step=0.01):\n",
    "    critical_points = []\n",
    "    x = x_range[0]\n",
    "    while x <= x_range[1]:\n",
    "        y = y_range[0]\n",
    "        while y <= y_range[1]:\n",
    "            dfdx = df_dx(func, x, y)\n",
    "            dfdy = df_dy(func, x, y)\n",
    "            if abs(dfdx) < 1e-5 and abs(dfdy) < 1e-5:\n",
    "                critical_points.append((x, y))\n",
    "            y += step\n",
    "        x += step\n",
    "    return critical_points"
   ],
   "metadata": {
    "collapsed": false
   }
  },
  {
   "cell_type": "markdown",
   "source": [
    "### Badanie funkcji pod kątem minimum, maksimum lub punktu siodłowego"
   ],
   "metadata": {
    "collapsed": false
   }
  },
  {
   "cell_type": "code",
   "execution_count": 10,
   "outputs": [],
   "source": [
    "def classify_critical_point(func, critical_point):\n",
    "    x, y = critical_point\n",
    "    dfdxx = df_dx(df_dx(func, x, y), x, y)\n",
    "    dfdxy = df_dy(df_dx(func, x, y), x, y)\n",
    "    dfdyy = df_dy(df_dy(func, x, y), x, y)\n",
    "    D = dfdxx * dfdyy - dfdxy**2\n",
    "    if D > 0 and dfdxx > 0:\n",
    "        return \"Minimum\"\n",
    "    elif D > 0 and dfdxx < 0:\n",
    "        return \"Maksimum\"\n",
    "    elif D < 0:\n",
    "        return \"Punkt siodłowy\"\n",
    "    else:\n",
    "        return \"Brak klasyfikacji\""
   ],
   "metadata": {
    "collapsed": false
   }
  },
  {
   "cell_type": "markdown",
   "source": [
    "### Znajdowanie wszystkich punktów krytycznych i ich klasyfikacja"
   ],
   "metadata": {
    "collapsed": false
   }
  },
  {
   "cell_type": "code",
   "execution_count": 11,
   "outputs": [],
   "source": [
    "def find_all_critical_points(func, x_range, y_range, step=0.01):\n",
    "    critical_points = find_critical_points(func, x_range, y_range, step)\n",
    "    classified_points = []\n",
    "    for point in critical_points:\n",
    "        classification = classify_critical_point(func, point)\n",
    "        classified_points.append((point, classification))\n",
    "    return classified_points"
   ],
   "metadata": {
    "collapsed": false
   }
  },
  {
   "cell_type": "markdown",
   "source": [
    "### Znajdowanie globalnego minimum lub maksimum na podstawie klasfikacji"
   ],
   "metadata": {
    "collapsed": false
   }
  },
  {
   "cell_type": "code",
   "execution_count": 12,
   "outputs": [],
   "source": [
    "def find_global_min_max(classified_points):\n",
    "    min_max = [point[0] for point in classified_points if point[1] in [\"Minimum\", \"Maksimum\"]]\n",
    "    return min_max"
   ],
   "metadata": {
    "collapsed": false
   }
  },
  {
   "cell_type": "markdown",
   "source": [
    "### Wyświetlanie wyników"
   ],
   "metadata": {
    "collapsed": false
   }
  },
  {
   "cell_type": "code",
   "execution_count": 13,
   "outputs": [],
   "source": [
    "def display_results(func, points):\n",
    "    print(\"Punkty krytyczne i ich klasyfikacja:\")\n",
    "    for point in points:\n",
    "        print(f\"({point[0][0]:.2f}, {point[0][1]:.2f}): {point[1]}\")\n",
    "    min_max = find_global_min_max(points)\n",
    "    print(\"\\nGlobalne minimum lub maksimum:\")\n",
    "    for point in min_max:\n",
    "        print(f\"({point[0]:.2f}, {point[1]:.2f}): {func(point[0], point[1]):.2f}\")"
   ],
   "metadata": {
    "collapsed": false
   }
  },
  {
   "cell_type": "markdown",
   "source": [
    "### Zbiory R^2 dla zadań"
   ],
   "metadata": {
    "collapsed": false
   }
  },
  {
   "cell_type": "code",
   "execution_count": 14,
   "outputs": [],
   "source": [
    "x_range = (-10, 10)\n",
    "y_range = (-10, 10)"
   ],
   "metadata": {
    "collapsed": false
   }
  },
  {
   "cell_type": "markdown",
   "source": [
    "### Obliczanie punktów krytycznych i ich klasyfikacja dla każdej z funkcji"
   ],
   "metadata": {
    "collapsed": false
   }
  },
  {
   "cell_type": "code",
   "execution_count": 15,
   "outputs": [
    {
     "name": "stdout",
     "output_type": "stream",
     "text": [
      "Dla funkcji f_1(x,y)=x^2 −4xy+y^2:\n",
      "Punkty krytyczne i ich klasyfikacja:\n",
      "\n",
      "Globalne minimum lub maksimum:\n",
      "\n",
      "Dla funkcji f_2(x,y)=x^4 −4xy+y^4:\n"
     ]
    },
    {
     "ename": "TypeError",
     "evalue": "'float' object is not callable",
     "output_type": "error",
     "traceback": [
      "\u001B[0;31m---------------------------------------------------------------------------\u001B[0m",
      "\u001B[0;31mTypeError\u001B[0m                                 Traceback (most recent call last)",
      "Cell \u001B[0;32mIn[15], line 6\u001B[0m\n\u001B[1;32m      3\u001B[0m display_results(function_1, points_f1)\n\u001B[1;32m      5\u001B[0m \u001B[38;5;28mprint\u001B[39m(\u001B[38;5;124m\"\u001B[39m\u001B[38;5;130;01m\\n\u001B[39;00m\u001B[38;5;124mDla funkcji f_2(x,y)=x^4 −4xy+y^4:\u001B[39m\u001B[38;5;124m\"\u001B[39m)\n\u001B[0;32m----> 6\u001B[0m points_f2 \u001B[38;5;241m=\u001B[39m \u001B[43mfind_all_critical_points\u001B[49m\u001B[43m(\u001B[49m\u001B[43mfunction_2\u001B[49m\u001B[43m,\u001B[49m\u001B[43m \u001B[49m\u001B[43mx_range\u001B[49m\u001B[43m,\u001B[49m\u001B[43m \u001B[49m\u001B[43my_range\u001B[49m\u001B[43m)\u001B[49m\n\u001B[1;32m      7\u001B[0m display_results(function_2, points_f2)\n\u001B[1;32m      9\u001B[0m \u001B[38;5;28mprint\u001B[39m(\u001B[38;5;124m\"\u001B[39m\u001B[38;5;130;01m\\n\u001B[39;00m\u001B[38;5;124mDla funkcji f_3(x,y)=2x^3 −3x^2 −6\u001B[39m\u001B[38;5;124m\"\u001B[39m)\n",
      "Cell \u001B[0;32mIn[11], line 5\u001B[0m, in \u001B[0;36mfind_all_critical_points\u001B[0;34m(func, x_range, y_range, step)\u001B[0m\n\u001B[1;32m      3\u001B[0m classified_points \u001B[38;5;241m=\u001B[39m []\n\u001B[1;32m      4\u001B[0m \u001B[38;5;28;01mfor\u001B[39;00m point \u001B[38;5;129;01min\u001B[39;00m critical_points:\n\u001B[0;32m----> 5\u001B[0m     classification \u001B[38;5;241m=\u001B[39m \u001B[43mclassify_critical_point\u001B[49m\u001B[43m(\u001B[49m\u001B[43mfunc\u001B[49m\u001B[43m,\u001B[49m\u001B[43m \u001B[49m\u001B[43mpoint\u001B[49m\u001B[43m)\u001B[49m\n\u001B[1;32m      6\u001B[0m     classified_points\u001B[38;5;241m.\u001B[39mappend((point, classification))\n\u001B[1;32m      7\u001B[0m \u001B[38;5;28;01mreturn\u001B[39;00m classified_points\n",
      "Cell \u001B[0;32mIn[10], line 3\u001B[0m, in \u001B[0;36mclassify_critical_point\u001B[0;34m(func, critical_point)\u001B[0m\n\u001B[1;32m      1\u001B[0m \u001B[38;5;28;01mdef\u001B[39;00m \u001B[38;5;21mclassify_critical_point\u001B[39m(func, critical_point):\n\u001B[1;32m      2\u001B[0m     x, y \u001B[38;5;241m=\u001B[39m critical_point\n\u001B[0;32m----> 3\u001B[0m     dfdxx \u001B[38;5;241m=\u001B[39m \u001B[43mdf_dx\u001B[49m\u001B[43m(\u001B[49m\u001B[43mdf_dx\u001B[49m\u001B[43m(\u001B[49m\u001B[43mfunc\u001B[49m\u001B[43m,\u001B[49m\u001B[43m \u001B[49m\u001B[43mx\u001B[49m\u001B[43m,\u001B[49m\u001B[43m \u001B[49m\u001B[43my\u001B[49m\u001B[43m)\u001B[49m\u001B[43m,\u001B[49m\u001B[43m \u001B[49m\u001B[43mx\u001B[49m\u001B[43m,\u001B[49m\u001B[43m \u001B[49m\u001B[43my\u001B[49m\u001B[43m)\u001B[49m\n\u001B[1;32m      4\u001B[0m     dfdxy \u001B[38;5;241m=\u001B[39m df_dy(df_dx(func, x, y), x, y)\n\u001B[1;32m      5\u001B[0m     dfdyy \u001B[38;5;241m=\u001B[39m df_dy(df_dy(func, x, y), x, y)\n",
      "Cell \u001B[0;32mIn[6], line 2\u001B[0m, in \u001B[0;36mdf_dx\u001B[0;34m(func, x, y, h)\u001B[0m\n\u001B[1;32m      1\u001B[0m \u001B[38;5;28;01mdef\u001B[39;00m \u001B[38;5;21mdf_dx\u001B[39m(func, x, y, h\u001B[38;5;241m=\u001B[39m\u001B[38;5;241m1e-5\u001B[39m):\n\u001B[0;32m----> 2\u001B[0m     \u001B[38;5;28;01mreturn\u001B[39;00m (\u001B[43mfunc\u001B[49m\u001B[43m(\u001B[49m\u001B[43mx\u001B[49m\u001B[43m \u001B[49m\u001B[38;5;241;43m+\u001B[39;49m\u001B[43m \u001B[49m\u001B[43mh\u001B[49m\u001B[43m,\u001B[49m\u001B[43m \u001B[49m\u001B[43my\u001B[49m\u001B[43m)\u001B[49m \u001B[38;5;241m-\u001B[39m func(x, y)) \u001B[38;5;241m/\u001B[39m h\n",
      "\u001B[0;31mTypeError\u001B[0m: 'float' object is not callable"
     ]
    }
   ],
   "source": [
    "print(\"Dla funkcji f_1(x,y)=x^2 −4xy+y^2:\")\n",
    "points_f1 = find_all_critical_points(function_1, x_range, y_range)\n",
    "display_results(function_1, points_f1)\n",
    "\n",
    "print(\"\\nDla funkcji f_2(x,y)=x^4 −4xy+y^4:\")\n",
    "points_f2 = find_all_critical_points(function_2, x_range, y_range)\n",
    "display_results(function_2, points_f2)\n",
    "\n",
    "print(\"\\nDla funkcji f_3(x,y)=2x^3 −3x^2 −6\")\n",
    "points_f3 = find_all_critical_points(function_3, x_range, y_range)\n",
    "display_results(function_3, points_f3)"
   ],
   "metadata": {
    "collapsed": false
   }
  }
 ],
 "metadata": {
  "kernelspec": {
   "display_name": "Python 3",
   "language": "python",
   "name": "python3"
  },
  "language_info": {
   "codemirror_mode": {
    "name": "ipython",
    "version": 2
   },
   "file_extension": ".py",
   "mimetype": "text/x-python",
   "name": "python",
   "nbconvert_exporter": "python",
   "pygments_lexer": "ipython2",
   "version": "2.7.6"
  }
 },
 "nbformat": 4,
 "nbformat_minor": 0
}
