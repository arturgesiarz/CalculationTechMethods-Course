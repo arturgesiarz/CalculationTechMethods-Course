{
 "cells": [
  {
   "cell_type": "markdown",
   "source": [
    "# Zestaw zadań: Optymalizacja\n",
    "## Zadanie 1\n",
    "### Autor: Artur Gęsiarz"
   ],
   "metadata": {
    "collapsed": false
   }
  },
  {
   "cell_type": "code",
   "execution_count": 188,
   "outputs": [],
   "source": [
    "import numpy as np"
   ],
   "metadata": {
    "collapsed": false
   }
  },
  {
   "cell_type": "markdown",
   "source": [
    "### Implementacja funkcji"
   ],
   "metadata": {
    "collapsed": false
   }
  },
  {
   "cell_type": "code",
   "execution_count": 189,
   "outputs": [],
   "source": [
    "def function_1(x,y):\n",
    "    return x ** 2 - 4 * x * y + y ** 2"
   ],
   "metadata": {
    "collapsed": false
   }
  },
  {
   "cell_type": "code",
   "execution_count": 190,
   "outputs": [],
   "source": [
    "def function_2(x,y):\n",
    "    return x ** 4 - 4 * x * y + y ** 4"
   ],
   "metadata": {
    "collapsed": false
   }
  },
  {
   "cell_type": "code",
   "execution_count": 191,
   "outputs": [],
   "source": [
    "def function_3(x,y):\n",
    "    return 2 * x ** 3 - 3 * x ** 2 - 6 * x * y * (x - y - 1)"
   ],
   "metadata": {
    "collapsed": false
   }
  },
  {
   "cell_type": "code",
   "execution_count": 192,
   "outputs": [],
   "source": [
    "def function_4(x,y):\n",
    "    return (x - y) ** 4 + x ** 2 - y ** 2 - 2 * x + 2 * y + 1"
   ],
   "metadata": {
    "collapsed": false
   }
  },
  {
   "cell_type": "markdown",
   "source": [
    "### Obliczanie gradientow kolejnych funkcji\n",
    "- Gradienty sa obliczane w tablicy: [dx, dy]\n",
    "- gdzie, pierwszym elementem w pochodna po x, a drugim elementem jest pochodna po y"
   ],
   "metadata": {
    "collapsed": false
   }
  },
  {
   "cell_type": "code",
   "execution_count": 193,
   "outputs": [],
   "source": [
    "def grad_function_1(x, y):\n",
    "    return np.array([2 * x - 4 * y,\n",
    "                     2 * y - 4 * x])"
   ],
   "metadata": {
    "collapsed": false
   }
  },
  {
   "cell_type": "code",
   "execution_count": 194,
   "outputs": [],
   "source": [
    "def grad_function_2(x, y):\n",
    "    return np.array([4 * x ** 3 - 4 * y,\n",
    "                     4 * y ** 3 - 4 * x])"
   ],
   "metadata": {
    "collapsed": false
   }
  },
  {
   "cell_type": "code",
   "execution_count": 195,
   "outputs": [],
   "source": [
    "def grad_function_3(x, y):\n",
    "    return np.array([6 * x ** 2 - 6 * x - 12 * x * y + 6 * y ** 2 + 6 * y,\n",
    "                     -6 * x ** 2 + 12 * x * y + 6 * x])"
   ],
   "metadata": {
    "collapsed": false
   }
  },
  {
   "cell_type": "code",
   "execution_count": 196,
   "outputs": [],
   "source": [
    "def grad_function_4(x, y):\n",
    "    return np.array([4 * (x - y) ** 3 + 2 * x - 2,\n",
    "                     -4 * (x - y) ** 3 - 2 * y + 2])"
   ],
   "metadata": {
    "collapsed": false
   }
  },
  {
   "cell_type": "markdown",
   "source": [
    "### Obliczenie punktow krytycznych"
   ],
   "metadata": {
    "collapsed": false
   }
  },
  {
   "cell_type": "code",
   "execution_count": 197,
   "outputs": [],
   "source": [
    "# Zmieniono punkt krytyczny na punkt (1, 1) !!\n",
    "\n",
    "critical_points = {\n",
    "    \"f1\" : np.array([(0, 0)]),\n",
    "    \"f2\" : np.array([(-1, -1), (0, 0), (1, 1)]),\n",
    "    \"f3\" : np.array([(0, 0), (0, -1), (1, 0), (-1, -1)]),\n",
    "    \"f4\" : np.array([(1, 1)]),\n",
    "}"
   ],
   "metadata": {
    "collapsed": false
   }
  },
  {
   "cell_type": "markdown",
   "source": [
    "### Obliczanie hesjanow dla poszczegolnych funkcji"
   ],
   "metadata": {
    "collapsed": false
   }
  },
  {
   "cell_type": "code",
   "execution_count": 198,
   "outputs": [],
   "source": [
    "def hessian_f1(x, y):\n",
    "    return np.array([[2, -4],\n",
    "                     [-4, 2]])"
   ],
   "metadata": {
    "collapsed": false
   }
  },
  {
   "cell_type": "code",
   "execution_count": 199,
   "outputs": [],
   "source": [
    "def hessian_f2(x, y):\n",
    "    return np.array([[12 * x ** 2, -4],\n",
    "                     [-4, 12 * y ** 2]])"
   ],
   "metadata": {
    "collapsed": false
   }
  },
  {
   "cell_type": "code",
   "execution_count": 200,
   "outputs": [],
   "source": [
    "def hessian_f3(x, y):\n",
    "    return np.array([[12 * x - 12 * y - 6, -12 * x + 12 * y + 6],\n",
    "                     [-12 * x + 12 * y + 6, 12 * x]])"
   ],
   "metadata": {
    "collapsed": false
   }
  },
  {
   "cell_type": "code",
   "execution_count": 201,
   "outputs": [],
   "source": [
    "def hessian_f4(x, y):\n",
    "    return np.array([[12 * (x - y) ** 2 + 2, -12 * (x - y) ** 2],\n",
    "                     [-12 * (x - y) ** 2, 12 * (x - y) ** 2 - 2]])"
   ],
   "metadata": {
    "collapsed": false
   }
  },
  {
   "cell_type": "markdown",
   "source": [
    "### Funkcja kwalifukujaca punkty krytyczne"
   ],
   "metadata": {
    "collapsed": false
   }
  },
  {
   "cell_type": "code",
   "execution_count": 202,
   "outputs": [],
   "source": [
    "def qualifications_points(hessian, critical_points_array):\n",
    "    # zmienino sposob kwalifikowania punktow !!\n",
    "    for (x,y) in critical_points_array:\n",
    "        hessian_matrix = hessian(x,y)\n",
    "\n",
    "        det_hessian_2x2 = np.linalg.det(hessian_matrix)\n",
    "\n",
    "        minimum_str = f\"Minimum lokalne jest w punkcie: ({x},{y})\"\n",
    "        maximum_str = f\"Maximum lokalne jest w punkcie: ({x},{y})\"\n",
    "        saddle_str = f\"Punkt siodłowy w punkcie: ({x},{y})\"\n",
    "        none_str = f\"Punkt jest nie okreslony w punkcie: ({x},{y})\"\n",
    "\n",
    "        if np.any(hessian_matrix > 0):\n",
    "            if det_hessian_2x2 > 0:\n",
    "                print(minimum_str)\n",
    "            elif det_hessian_2x2 < 0:\n",
    "                print(saddle_str)\n",
    "            else:\n",
    "                print(none_str)\n",
    "\n",
    "        elif np.any(hessian_matrix < 0):\n",
    "            if det_hessian_2x2 > 0:\n",
    "                print(maximum_str)\n",
    "            elif det_hessian_2x2 < 0:\n",
    "                print(saddle_str)\n",
    "            else:\n",
    "                print(none_str)\n",
    "        else:\n",
    "            print(none_str)"
   ],
   "metadata": {
    "collapsed": false
   }
  },
  {
   "cell_type": "code",
   "execution_count": 203,
   "outputs": [],
   "source": [
    "def critical_points_characteristics_all():\n",
    "    hessians = [hessian_f1,\n",
    "                hessian_f2,\n",
    "                hessian_f3,\n",
    "                hessian_f4]\n",
    "\n",
    "    for function_number in range(1,5):\n",
    "        function_ = \"f\" + str(function_number)\n",
    "        print(f\"Charakterystyka dla funkcji nr. {function_number}:\\n\")\n",
    "        qualifications_points(hessians[function_number - 1], critical_points[function_])\n",
    "        print(\"\\n\")"
   ],
   "metadata": {
    "collapsed": false
   }
  },
  {
   "cell_type": "markdown",
   "source": [
    "### Charakterystyka punktow krytycznych"
   ],
   "metadata": {
    "collapsed": false
   }
  },
  {
   "cell_type": "code",
   "execution_count": 204,
   "outputs": [
    {
     "name": "stdout",
     "output_type": "stream",
     "text": [
      "Charakterystyka dla funkcji nr. 1:\n",
      "\n",
      "Punkt siodłowy w punkcie: (0,0)\n",
      "\n",
      "\n",
      "Charakterystyka dla funkcji nr. 2:\n",
      "\n",
      "Minimum lokalne jest w punkcie: (-1,-1)\n",
      "Punkt siodłowy w punkcie: (0,0)\n",
      "Minimum lokalne jest w punkcie: (1,1)\n",
      "\n",
      "\n",
      "Charakterystyka dla funkcji nr. 3:\n",
      "\n",
      "Punkt siodłowy w punkcie: (0,0)\n",
      "Punkt siodłowy w punkcie: (0,-1)\n",
      "Minimum lokalne jest w punkcie: (1,0)\n",
      "Minimum lokalne jest w punkcie: (-1,-1)\n",
      "\n",
      "\n",
      "Charakterystyka dla funkcji nr. 4:\n",
      "\n",
      "Punkt siodłowy w punkcie: (1,1)\n",
      "\n",
      "\n"
     ]
    }
   ],
   "source": [
    "critical_points_characteristics_all()"
   ],
   "metadata": {
    "collapsed": false
   }
  }
 ],
 "metadata": {
  "kernelspec": {
   "display_name": "Python 3",
   "language": "python",
   "name": "python3"
  },
  "language_info": {
   "codemirror_mode": {
    "name": "ipython",
    "version": 2
   },
   "file_extension": ".py",
   "mimetype": "text/x-python",
   "name": "python",
   "nbconvert_exporter": "python",
   "pygments_lexer": "ipython2",
   "version": "2.7.6"
  }
 },
 "nbformat": 4,
 "nbformat_minor": 0
}
