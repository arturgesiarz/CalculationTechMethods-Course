{
 "cells": [
  {
   "cell_type": "markdown",
   "source": [
    "# Zestaw zadań: Optymalizacja\n",
    "## Zadanie 2\n",
    "### Autor: Artur Gęsiarz"
   ],
   "metadata": {
    "collapsed": false
   }
  },
  {
   "cell_type": "code",
   "execution_count": 9,
   "outputs": [
    {
     "name": "stdout",
     "output_type": "stream",
     "text": [
      "Funkcja f_1:\n",
      "Warunek dostateczny (macierz Hessego jest nieokreślona). Wymagane bardziej szczegółowe badania.\n",
      "Punkt krytyczny (metoda Newtona): [0 0] - punkt siodłowy.\n",
      "Funkcja f_2:\n",
      "Warunek dostateczny (macierz Hessego jest nieokreślona). Wymagane bardziej szczegółowe badania.\n",
      "Punkt krytyczny (metoda Newtona): [0 0] - punkt siodłowy.\n",
      "Funkcja f_3:\n",
      "Warunek dostateczny (macierz Hessego jest nieokreślona). Wymagane bardziej szczegółowe badania.\n",
      "Punkt krytyczny (metoda Newtona): [0 0] - punkt siodłowy.\n",
      "Funkcja f_4:\n",
      "Warunek dostateczny (macierz Hessego jest nieokreślona). Wymagane bardziej szczegółowe badania.\n",
      "Punkt krytyczny (metoda Newtona): [0 0] - punkt siodłowy.\n"
     ]
    }
   ],
   "source": [
    "import numpy as np\n",
    "\n",
    "# Definicje funkcji\n",
    "\n",
    "def f_1(x):\n",
    "    return x[0]**2 - 4 * x[0] * x[1] + x[1]**2\n",
    "\n",
    "def f_2(x):\n",
    "    return x[0]**4 - 4 * x[0] * x[1] + x[1]**4\n",
    "\n",
    "def f_3(x):\n",
    "    return 2 * x[0]**3 - 3 * x[0]**2 - 6 * x[0] * x[1] * (x[0] - x[1] - 1)\n",
    "\n",
    "def f_4(x):\n",
    "    return (x[0] - x[1])**4 + x[0]**2 - x[1]**2 - 2 * x[0] + 2 * x[1] + 1\n",
    "\n",
    "# Obliczanie gradientu\n",
    "\n",
    "def gradient(f, x):\n",
    "    h = 1e-6\n",
    "    grad = np.zeros_like(x)\n",
    "    for i in range(len(x)):\n",
    "        x_plus_h = x.copy()\n",
    "        x_plus_h[i] += h\n",
    "        grad[i] = (f(x_plus_h) - f(x)) / h\n",
    "    return grad\n",
    "\n",
    "# Obliczanie hesjanu\n",
    "\n",
    "def hessian(f, x):\n",
    "    h = 1e-6\n",
    "    n = len(x)\n",
    "    hess = np.zeros((n, n))\n",
    "    for i in range(n):\n",
    "        for j in range(n):\n",
    "            if i == j:\n",
    "                x_plus_h = x.copy()\n",
    "                x_plus_h[i] += h\n",
    "                hess[i][j] = (f(x_plus_h) - 2 * f(x) + f(x)) / h**2\n",
    "            else:\n",
    "                x_plus_h1 = x.copy()\n",
    "                x_plus_h2 = x.copy()\n",
    "                x_plus_h1[i] += h\n",
    "                x_plus_h1[j] += h\n",
    "                x_plus_h2[i] += h\n",
    "                x_plus_h2[j] -= h\n",
    "                hess[i][j] = (f(x_plus_h1) - f(x_plus_h2) - f(x_plus_h1) + f(x)) / (4 * h**2)\n",
    "    return hess\n",
    "\n",
    "# Metoda Newtona\n",
    "\n",
    "def newton_method(f, x0, tol=1e-6, max_iter=1000):\n",
    "    x = x0\n",
    "    for _ in range(max_iter):\n",
    "        grad = gradient(f, x)\n",
    "        hess = hessian(f, x)\n",
    "        try:\n",
    "            inv_hess = np.linalg.inv(hess)\n",
    "        except np.linalg.LinAlgError:\n",
    "            inv_hess = np.linalg.pinv(hess)  # używamy pseudoinwersji w przypadku macierzy osobliwych\n",
    "        x_new = x - inv_hess @ grad\n",
    "        if np.linalg.norm(x_new - x) < tol:\n",
    "            break\n",
    "        x = x_new\n",
    "    return x\n",
    "\n",
    "# Znajdowanie punktów krytycznych dla każdej z funkcji\n",
    "\n",
    "functions = [f_1, f_2, f_3, f_4]\n",
    "initial_guesses = [np.array([0, 0]), np.array([0, 0]), np.array([0, 0]), np.array([0, 0])]\n",
    "\n",
    "for i, f in enumerate(functions):\n",
    "    print(f'Funkcja f_{i+1}:')\n",
    "\n",
    "    # Metoda Newtona\n",
    "    critical_point_newton = newton_method(f, initial_guesses[i])\n",
    "\n",
    "    # Obliczanie hesjanu w punkcie krytycznym\n",
    "    hess_newton = hessian(f, critical_point_newton)\n",
    "\n",
    "    if np.all(gradient(f, critical_point_newton) > 0) and np.all(np.linalg.eigvals(hess_newton) > 0):\n",
    "        print(\"Warunek dostateczny (macierz Hessego dodatnio określona) jest spełniony.\")\n",
    "        print(f\"Punkt krytyczny (metoda Newtona): {critical_point_newton} - minimum globalne.\")\n",
    "    elif np.any(gradient(f, critical_point_newton) < 0) and np.all(np.linalg.eigvals(hess_newton) < 0):\n",
    "        print(\"Warunek dostateczny (macierz Hessego ujemnie określona) jest spełniony.\")\n",
    "        print(f\"Punkt krytyczny (metoda Newtona): {critical_point_newton} - maksimum globalne.\")\n",
    "    else:\n",
    "        print(\"Warunek dostateczny (macierz Hessego jest nieokreślona). Wymagane bardziej szczegółowe badania.\")\n",
    "        print(f\"Punkt krytyczny (metoda Newtona): {critical_point_newton} - punkt siodłowy.\")\n"
   ],
   "metadata": {
    "collapsed": false
   }
  }
 ],
 "metadata": {
  "kernelspec": {
   "display_name": "Python 3",
   "language": "python",
   "name": "python3"
  },
  "language_info": {
   "codemirror_mode": {
    "name": "ipython",
    "version": 2
   },
   "file_extension": ".py",
   "mimetype": "text/x-python",
   "name": "python",
   "nbconvert_exporter": "python",
   "pygments_lexer": "ipython2",
   "version": "2.7.6"
  }
 },
 "nbformat": 4,
 "nbformat_minor": 0
}
