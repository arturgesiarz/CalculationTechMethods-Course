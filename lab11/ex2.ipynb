{
 "cells": [
  {
   "cell_type": "markdown",
   "source": [
    "# Zestaw zadań: Optymalizacja\n",
    "## Zadanie 2\n",
    "### Autor: Artur Gęsiarz"
   ],
   "metadata": {
    "collapsed": false
   }
  },
  {
   "cell_type": "code",
   "execution_count": null,
   "outputs": [],
   "source": [
    "import numpy as np\n",
    "import matplotlib.pyplot as plt"
   ],
   "metadata": {
    "collapsed": false
   }
  },
  {
   "cell_type": "markdown",
   "source": [
    "### ..."
   ],
   "metadata": {
    "collapsed": false
   }
  },
  {
   "cell_type": "code",
   "execution_count": null,
   "outputs": [],
   "source": [
    "def gradient(X, R, lambda1, lambda2, epsilon):\n",
    "    grad = np.zeros_like(X)\n",
    "    n = X.shape[0] - 1\n",
    "    k = R.shape[0]\n",
    "\n",
    "    for i in range(1, n):\n",
    "        for j in range(k):\n",
    "            d_ij = np.linalg.norm(X[i] - R[j]) ** 2\n",
    "            grad[i] += lambda1 * (-2 * (X[i] - R[j]) / (epsilon + d_ij) ** 2)\n",
    "\n",
    "        grad[i] += lambda2 * (2 * (X[i] - X[i-1]) - 2 * (X[i+1] - X[i]))\n",
    "\n",
    "    return grad"
   ],
   "metadata": {
    "collapsed": false
   }
  },
  {
   "cell_type": "markdown",
   "source": [
    "### ..."
   ],
   "metadata": {
    "collapsed": false
   }
  },
  {
   "cell_type": "code",
   "execution_count": null,
   "outputs": [],
   "source": [
    "def golden_section_search(f, a, b, tol=1e-5):\n",
    "    gr = (np.sqrt(5) + 1) / 2\n",
    "    c = b - (b - a) / gr\n",
    "    d = a + (b - a) / gr\n",
    "    while abs(c - d) > tol:\n",
    "        if f(c) < f(d):\n",
    "            b = d\n",
    "        else:\n",
    "            a = c\n",
    "        c = b - (b - a) / gr\n",
    "        d = a + (b - a) / gr\n",
    "    return (b + a) / 2"
   ],
   "metadata": {
    "collapsed": false
   }
  },
  {
   "cell_type": "markdown",
   "source": [
    "### ..."
   ],
   "metadata": {
    "collapsed": false
   }
  },
  {
   "cell_type": "code",
   "execution_count": null,
   "outputs": [],
   "source": [
    "def objective(X, R, lambda1, lambda2, epsilon):\n",
    "    n = X.shape[0] - 1\n",
    "    k = R.shape[0]\n",
    "    term1 = sum([sum([1 / (epsilon + np.linalg.norm(X[i] - R[j]) ** 2) for j in range(k)]) for i in range(n + 1)])\n",
    "    term2 = sum([np.linalg.norm(X[i+1] - X[i]) ** 2 for i in range(n)])\n",
    "    return lambda1 * term1 + lambda2 * term2"
   ],
   "metadata": {
    "collapsed": false
   }
  },
  {
   "cell_type": "markdown",
   "source": [
    "### ...."
   ],
   "metadata": {
    "collapsed": false
   }
  },
  {
   "cell_type": "code",
   "execution_count": null,
   "outputs": [],
   "source": [
    "def line_search(X, dX, R, lambda1, lambda2, epsilon):\n",
    "    def f(alpha):\n",
    "        return objective(X - alpha * dX, R, lambda1, lambda2, epsilon)\n",
    "    return golden_section_search(f, 0, 1)"
   ],
   "metadata": {
    "collapsed": false
   }
  },
  {
   "cell_type": "markdown",
   "source": [
    "### Algorytm największego spadku"
   ],
   "metadata": {
    "collapsed": false
   }
  },
  {
   "cell_type": "code",
   "execution_count": null,
   "outputs": [],
   "source": [
    "def gradient_descent(X, R, lambda1, lambda2, epsilon, max_iter):\n",
    "    F_values = []\n",
    "    for _ in range(max_iter):\n",
    "        grad = gradient(X, R, lambda1, lambda2, epsilon)\n",
    "        grad[0] = grad[-1] = 0  # Stałe punkty początkowe i końcowe\n",
    "        alpha = line_search(X, grad, R, lambda1, lambda2, epsilon)\n",
    "        X -= alpha * grad\n",
    "        F_values.append(objective(X, R, lambda1, lambda2, epsilon))\n",
    "    return X, F_values"
   ],
   "metadata": {
    "collapsed": false
   }
  },
  {
   "cell_type": "markdown",
   "source": [
    "### Parametry"
   ],
   "metadata": {
    "collapsed": false
   }
  },
  {
   "cell_type": "code",
   "execution_count": null,
   "outputs": [],
   "source": [
    "n = 20\n",
    "k = 50\n",
    "x0 = np.array([0, 0])\n",
    "xn = np.array([20, 20])\n",
    "np.random.seed(0)\n",
    "R = np.random.uniform(0, 20, (k, 2))\n",
    "lambda1, lambda2 = 1, 1\n",
    "eps = 1e-13\n",
    "\n",
    "X = np.zeros((n + 1, 2))\n",
    "X[0] = x0\n",
    "X[-1] = xn"
   ],
   "metadata": {
    "collapsed": false
   }
  },
  {
   "cell_type": "markdown",
   "source": [
    "### Wykonanie algorytmu dla 5 różnych inicjalizacji"
   ],
   "metadata": {
    "collapsed": false
   }
  },
  {
   "cell_type": "code",
   "execution_count": null,
   "outputs": [],
   "source": [
    "\n",
    "for _ in range(5):\n",
    "    X[1:-1] = np.random.uniform(0, 20, (n-1, 2))\n",
    "    X_opt, F_values = gradient_descent(X, R, lambda1, lambda2, eps, 400)\n",
    "\n",
    "    fig, axs = plt.subplots(2, 1,figsize=(10, 8))\n",
    "\n",
    "    axs[0].plot(F_values)\n",
    "    axs[0].set_xlabel('Iteracja')\n",
    "    axs[0].set_ylabel('Wartość funkcji F')\n",
    "    axs[0].set_title('Zmiana wartości funkcji F w zależności od iteracji')\n",
    "\n",
    "\n",
    "    axs[1].plot(X_opt[:, 0], X_opt[:, 1], 'o-', label='Ścieżka')\n",
    "    axs[1].scatter(R[:, 0], R[:, 1], c='r', marker='x', label='Przeszkody')\n",
    "    axs[1].legend()\n",
    "    axs[1].set_title('Ścieżka robota')\n",
    "\n",
    "    plt.show()\n"
   ],
   "metadata": {
    "collapsed": false
   }
  }
 ],
 "metadata": {
  "kernelspec": {
   "display_name": "Python 3",
   "language": "python",
   "name": "python3"
  },
  "language_info": {
   "codemirror_mode": {
    "name": "ipython",
    "version": 2
   },
   "file_extension": ".py",
   "mimetype": "text/x-python",
   "name": "python",
   "nbconvert_exporter": "python",
   "pygments_lexer": "ipython2",
   "version": "2.7.6"
  }
 },
 "nbformat": 4,
 "nbformat_minor": 0
}
