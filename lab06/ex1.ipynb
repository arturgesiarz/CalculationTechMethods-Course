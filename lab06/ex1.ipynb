{
 "cells": [
  {
   "cell_type": "markdown",
   "source": [
    "# Zestaw zadań: Kwadratury\n",
    "## Zadanie 1,2\n",
    "### Autor: Artur Gęsiarz"
   ],
   "metadata": {
    "collapsed": false
   }
  },
  {
   "cell_type": "code",
   "execution_count": 99,
   "outputs": [],
   "source": [
    "import numpy as np\n",
    "import matplotlib.pyplot as plt\n",
    "from scipy.integrate import trapz, simps\n",
    "from warnings import filterwarnings\n",
    "from scipy.special import roots_legendre"
   ],
   "metadata": {
    "collapsed": false
   }
  },
  {
   "cell_type": "code",
   "execution_count": 100,
   "outputs": [],
   "source": [
    "filterwarnings(\"ignore\", category=DeprecationWarning)"
   ],
   "metadata": {
    "collapsed": false
   }
  },
  {
   "cell_type": "markdown",
   "source": [
    "### Funkcja do calkowania"
   ],
   "metadata": {
    "collapsed": false
   }
  },
  {
   "cell_type": "code",
   "execution_count": 101,
   "outputs": [],
   "source": [
    "def function_to_integrate(x):\n",
    "    return 4 / (1 + x ** 2)"
   ],
   "metadata": {
    "collapsed": false
   }
  },
  {
   "cell_type": "markdown",
   "source": [
    "### Funkcja obliczajca wartosc pi za pomoca calki"
   ],
   "metadata": {
    "collapsed": false
   }
  },
  {
   "cell_type": "code",
   "execution_count": 102,
   "outputs": [],
   "source": [
    "def calculate_pi_integral(method, x, y):\n",
    "    integral_value = method(y, x)\n",
    "    return integral_value"
   ],
   "metadata": {
    "collapsed": false
   }
  },
  {
   "cell_type": "markdown",
   "source": [
    "### Funkcja obliczajca blad wzgledny"
   ],
   "metadata": {
    "collapsed": false
   }
  },
  {
   "cell_type": "code",
   "execution_count": 103,
   "outputs": [],
   "source": [
    "def relative_error(excat, approx):\n",
    "    return np.abs((excat - approx) / excat)"
   ],
   "metadata": {
    "collapsed": false
   }
  },
  {
   "cell_type": "markdown",
   "source": [
    "### Funkcja metody prostokątów"
   ],
   "metadata": {
    "collapsed": false
   }
  },
  {
   "cell_type": "code",
   "execution_count": 104,
   "outputs": [],
   "source": [
    "def open_rectangle_rule(f, a, b, n):\n",
    "    h = (b - a) / (2 * n)\n",
    "    x = np.linspace(a + h, b - h, n)\n",
    "    integral = 2 * h * np.sum(f(x))\n",
    "    return integral"
   ],
   "metadata": {
    "collapsed": false
   }
  },
  {
   "cell_type": "markdown",
   "source": [
    "### Funkcja metody Gaussa-Legendre'a"
   ],
   "metadata": {
    "collapsed": false
   }
  },
  {
   "cell_type": "code",
   "execution_count": 105,
   "outputs": [],
   "source": [
    "def gauss_legendre_integration(n):\n",
    "    nodes, weights = roots_legendre(n)\n",
    "\n",
    "    x = 0.5 * (nodes + 1)\n",
    "    w = 0.5 * weights\n",
    "\n",
    "    integral_value = np.sum(w * function_to_integrate(x))\n",
    "\n",
    "    return integral_value"
   ],
   "metadata": {
    "collapsed": false
   }
  },
  {
   "cell_type": "markdown",
   "source": [
    "### Lista do przechowywania bledow wzglednych dla kazdej z metod"
   ],
   "metadata": {
    "collapsed": false
   }
  },
  {
   "cell_type": "code",
   "execution_count": 106,
   "outputs": [],
   "source": [
    "errors_trapezoidal = []\n",
    "errors_simpson = []\n",
    "errors_open_rectangle = []\n",
    "errors_legendre = []"
   ],
   "metadata": {
    "collapsed": false
   }
  },
  {
   "cell_type": "markdown",
   "source": [
    "### Przedzial calkowania"
   ],
   "metadata": {
    "collapsed": false
   }
  },
  {
   "cell_type": "code",
   "execution_count": 107,
   "outputs": [],
   "source": [
    "a = 0\n",
    "b = 1"
   ],
   "metadata": {
    "collapsed": false
   }
  },
  {
   "cell_type": "markdown",
   "source": [
    "### Zakres wartosci m"
   ],
   "metadata": {
    "collapsed": false
   }
  },
  {
   "cell_type": "code",
   "execution_count": 108,
   "outputs": [],
   "source": [
    "exact_value = np.pi\n",
    "m_values = np.arange(1, 26)\n",
    "n_values = range(1, 100)"
   ],
   "metadata": {
    "collapsed": false
   }
  },
  {
   "cell_type": "markdown",
   "source": [
    "### Pętla po wartosciach m w celu obliczenia bledow kwadrator prostokatow, trapezow oraz Simpsona"
   ],
   "metadata": {
    "collapsed": false
   }
  },
  {
   "cell_type": "code",
   "execution_count": 109,
   "outputs": [],
   "source": [
    "for m in m_values:\n",
    "    # Generowanie węzlów\n",
    "    x = np.linspace(a, b, 2 ** m + 1)\n",
    "    y = function_to_integrate(x)\n",
    "\n",
    "    integral_trapezoidal = calculate_pi_integral(trapz, x, y)\n",
    "    integral_simpson = calculate_pi_integral(simps, x, y)\n",
    "    integral_open_rectangle = open_rectangle_rule(function_to_integrate, 0, 1, m)\n",
    "\n",
    "    error_trapezoidal = relative_error(exact_value, integral_trapezoidal)\n",
    "    error_simpson = relative_error(exact_value, integral_simpson)\n",
    "    error_open_rectangle = relative_error(exact_value, integral_open_rectangle)\n",
    "\n",
    "    errors_simpson.append(error_simpson)\n",
    "    errors_trapezoidal.append(error_trapezoidal)\n",
    "    errors_open_rectangle.append(error_open_rectangle)"
   ],
   "metadata": {
    "collapsed": false
   }
  },
  {
   "cell_type": "markdown",
   "source": [
    "### Petla po wartosc n w celu obliczenia bledow kwadratury Lagrangea"
   ],
   "metadata": {
    "collapsed": false
   }
  },
  {
   "cell_type": "code",
   "execution_count": 110,
   "outputs": [],
   "source": [
    "for n in n_values:\n",
    "    integral_value = gauss_legendre_integration(n)\n",
    "    error = np.abs((exact_value - integral_value) / exact_value)\n",
    "    errors_legendre.append(error)"
   ],
   "metadata": {
    "collapsed": false
   }
  },
  {
   "cell_type": "markdown",
   "source": [
    "### Tworzenie wykresu"
   ],
   "metadata": {
    "collapsed": false
   }
  },
  {
   "cell_type": "code",
   "execution_count": 111,
   "outputs": [
    {
     "data": {
      "text/plain": "<Figure size 1000x600 with 1 Axes>",
      "image/png": "[encoded data removed]"
     },
     "metadata": {},
     "output_type": "display_data"
    }
   ],
   "source": [
    "plt.figure(figsize=(10,6))\n",
    "plt.plot(m_values, errors_trapezoidal, label='Metoda trapezow', marker='o')\n",
    "plt.plot(m_values, errors_simpson, label='Metoda Simpsona', marker='o',color='orange')\n",
    "plt.plot(m_values, errors_open_rectangle, label='Metoda prostokątów otwartych', marker='o')\n",
    "plt.plot(n_values, errors_legendre, label='Metoda Lagrangea', marker='o')\n",
    "plt.xscale('log')\n",
    "plt.yscale('log')\n",
    "plt.title('Błąd wzgledny w zależności od liczby ewaluacji funkcji')\n",
    "plt.xlabel('Liczba ewaluacji funkcji')\n",
    "plt.ylabel('Błąd wzgledny')\n",
    "plt.legend()\n",
    "plt.grid(True)\n",
    "plt.show()"
   ],
   "metadata": {
    "collapsed": false
   }
  },
  {
   "cell_type": "markdown",
   "source": [
    "### Wyświetlanie danych"
   ],
   "metadata": {
    "collapsed": false
   }
  },
  {
   "cell_type": "code",
   "execution_count": 112,
   "outputs": [],
   "source": [
    "m = 1\n",
    "for error_trapezional in errors_trapezoidal:\n",
    "    #print(f\"Error trapezional for {m} -> equals: {error_trapezional}\")\n",
    "    m += 1\n",
    "\n",
    "m = 1\n",
    "for error_simpson in errors_simpson:\n",
    "    #print(f\"Error Simpson for {m} -> equals: {error_simpson}\")\n",
    "    m += 1"
   ],
   "metadata": {
    "collapsed": false
   }
  },
  {
   "cell_type": "markdown",
   "source": [
    "### Obliczenie h_min"
   ],
   "metadata": {
    "collapsed": false
   }
  },
  {
   "cell_type": "code",
   "execution_count": 113,
   "outputs": [],
   "source": [
    "def calculate_hmin(method):\n",
    "    h = 1.0\n",
    "    previous_error = 1.0\n",
    "\n",
    "    while True:\n",
    "        x = np.linspace(0, 1, int(1 / h) + 1)\n",
    "        y = function_to_integrate(x)\n",
    "\n",
    "        exact_value = np.pi\n",
    "        integral_value = method(y, x)\n",
    "        error = relative_error(exact_value, integral_value)\n",
    "\n",
    "        if error >= previous_error or np.isnan(error):\n",
    "            break\n",
    "\n",
    "        previous_error = error\n",
    "        h /= 2\n",
    "\n",
    "    return h"
   ],
   "metadata": {
    "collapsed": false
   }
  },
  {
   "cell_type": "markdown",
   "source": [
    "### Obliczenie wartości ponizęj ktorej zmniejsze kroku h nie zmniejsza juz bledu kwadratury dla metody trapezow"
   ],
   "metadata": {
    "collapsed": false
   }
  },
  {
   "cell_type": "code",
   "execution_count": 114,
   "outputs": [
    {
     "name": "stdout",
     "output_type": "stream",
     "text": [
      "H_min dla metody trapezow wynosi: 5.960464477539063e-08\n"
     ]
    }
   ],
   "source": [
    "h_min_trapezoidal = calculate_hmin(trapz)\n",
    "print(\"H_min dla metody trapezow wynosi:\",h_min_trapezoidal)"
   ],
   "metadata": {
    "collapsed": false
   }
  },
  {
   "cell_type": "markdown",
   "source": [
    "### Obliczenie wartości ponizęj ktorej zmniejsze kroku h nie zmniejsza juz bledu kwadratury dla metody Simpsona"
   ],
   "metadata": {
    "collapsed": false
   }
  },
  {
   "cell_type": "code",
   "execution_count": 115,
   "outputs": [
    {
     "name": "stdout",
     "output_type": "stream",
     "text": [
      "H_min dla metody Simpsona wynosi: 0.001953125\n"
     ]
    }
   ],
   "source": [
    "h_min_Simpson = calculate_hmin(simps)\n",
    "print(\"H_min dla metody Simpsona wynosi:\",h_min_Simpson)"
   ],
   "metadata": {
    "collapsed": false
   }
  },
  {
   "cell_type": "markdown",
   "source": [
    "### Obliczenie błędu numerycznego dladanej metody i wartości h"
   ],
   "metadata": {
    "collapsed": false
   }
  },
  {
   "cell_type": "code",
   "execution_count": 117,
   "outputs": [],
   "source": [
    "def calculate_error(method, h):\n",
    "    x = np.linspace(0, 1, int(1 / h) + 1)\n",
    "    y = function_to_integrate(x)\n",
    "\n",
    "    exact_value = np.pi\n",
    "    integral_value = method(y, x)\n",
    "\n",
    "    error = np.abs((exact_value - integral_value) / exact_value)\n",
    "\n",
    "    return error"
   ],
   "metadata": {
    "collapsed": false
   }
  },
  {
   "cell_type": "markdown",
   "source": [
    "### Obliczanie rzędu zbieżności"
   ],
   "metadata": {
    "collapsed": false
   }
  },
  {
   "cell_type": "code",
   "execution_count": 118,
   "outputs": [],
   "source": [
    "def calculate_convergence_order(errors, hs):\n",
    "    p_values = []\n",
    "\n",
    "    for i in range(len(errors) - 1):\n",
    "        if errors[i] == 0 or errors[i+1] == 0:\n",
    "            continue\n",
    "        p = np.log(errors[i+1] / errors[i]) / np.log(hs[i+1] / hs[i])\n",
    "        p_values.append(p)\n",
    "\n",
    "    return p_values"
   ],
   "metadata": {
    "collapsed": false
   }
  },
  {
   "cell_type": "markdown",
   "source": [
    "### Zakres wartosci h"
   ],
   "metadata": {
    "collapsed": false
   }
  },
  {
   "cell_type": "code",
   "execution_count": 119,
   "outputs": [],
   "source": [
    "hs = np.logspace(-5, -1, 100)"
   ],
   "metadata": {
    "collapsed": false
   }
  },
  {
   "cell_type": "markdown",
   "source": [
    "### Obliczenie błędów numerycznych dla każdej metody"
   ],
   "metadata": {
    "collapsed": false
   }
  },
  {
   "cell_type": "code",
   "execution_count": 120,
   "outputs": [],
   "source": [
    "errors_trapezoidal_empi = [calculate_error(trapz, h) for h in hs]\n",
    "errors_simpson_empi = [calculate_error(simps, h) for h in hs]"
   ],
   "metadata": {
    "collapsed": false
   }
  },
  {
   "cell_type": "markdown",
   "source": [
    "### Obliczenie rzędu zbieżności dla kazej metody"
   ],
   "metadata": {
    "collapsed": false
   }
  },
  {
   "cell_type": "code",
   "execution_count": 121,
   "outputs": [],
   "source": [
    "p_values_trapezoidal = calculate_convergence_order(errors_trapezoidal_empi, hs)\n",
    "p_values_Simpson = calculate_convergence_order(errors_simpson_empi, hs)"
   ],
   "metadata": {
    "collapsed": false
   }
  },
  {
   "cell_type": "markdown",
   "source": [
    "### Wyświetlanie wynikow"
   ],
   "metadata": {
    "collapsed": false
   }
  },
  {
   "cell_type": "code",
   "execution_count": 122,
   "outputs": [
    {
     "name": "stdout",
     "output_type": "stream",
     "text": [
      "Rząd zbieznosci dla metody trapezów:  1.999999861768364\n",
      "Rząd zbieznosci dla metody Simpsona:  3.0734249145794035\n"
     ]
    }
   ],
   "source": [
    "print(\"Rząd zbieznosci dla metody trapezów: \",np.mean(p_values_trapezoidal))\n",
    "print(\"Rząd zbieznosci dla metody Simpsona: \",np.mean(p_values_Simpson))"
   ],
   "metadata": {
    "collapsed": false
   }
  }
 ],
 "metadata": {
  "kernelspec": {
   "display_name": "Python 3",
   "language": "python",
   "name": "python3"
  },
  "language_info": {
   "codemirror_mode": {
    "name": "ipython",
    "version": 2
   },
   "file_extension": ".py",
   "mimetype": "text/x-python",
   "name": "python",
   "nbconvert_exporter": "python",
   "pygments_lexer": "ipython2",
   "version": "2.7.6"
  }
 },
 "nbformat": 4,
 "nbformat_minor": 0
}
