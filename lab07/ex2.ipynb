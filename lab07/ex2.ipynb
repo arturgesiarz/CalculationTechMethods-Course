{
 "cells": [
  {
   "cell_type": "markdown",
   "source": [
    "# Zestaw zadań: Kwadratury adaptacyjne\n",
    "## Zadanie 2\n",
    "### Autor: Artur Gęsiarz"
   ],
   "metadata": {
    "collapsed": false
   }
  },
  {
   "cell_type": "code",
   "execution_count": 2,
   "outputs": [],
   "source": [
    "import numpy as np\n",
    "from scipy.integrate import quad\n"
   ],
   "metadata": {
    "collapsed": false
   }
  },
  {
   "cell_type": "markdown",
   "source": [
    "### Funkcje do obliczenia całek"
   ],
   "metadata": {
    "collapsed": false
   }
  },
  {
   "cell_type": "code",
   "execution_count": 3,
   "outputs": [],
   "source": [
    "def func_a(x):\n",
    "    return np.sqrt(x) * np.log(x)"
   ],
   "metadata": {
    "collapsed": false
   }
  },
  {
   "cell_type": "code",
   "execution_count": 4,
   "outputs": [],
   "source": [
    "def func_b(x, a=0.001, b=0.004):\n",
    "    return 1 / ((x - 0.3) ** 2 + a) + 1 / ((x - 0.9) ** 2 + b) - 6"
   ],
   "metadata": {
    "collapsed": false
   }
  },
  {
   "cell_type": "markdown",
   "source": [
    "### Stałe dla całki (b)"
   ],
   "metadata": {
    "collapsed": false
   }
  },
  {
   "cell_type": "code",
   "execution_count": 5,
   "outputs": [],
   "source": [
    "a_b = 0.001\n",
    "b_b = 0.004"
   ],
   "metadata": {
    "collapsed": false
   }
  },
  {
   "cell_type": "markdown",
   "source": [
    "### Obliczenie dokładnych wartości całek"
   ],
   "metadata": {
    "collapsed": false
   }
  },
  {
   "cell_type": "code",
   "execution_count": 6,
   "outputs": [],
   "source": [
    "exact_integral_a = -4/9\n",
    "exact_integral_b = 1 / np.sqrt(a_b) * (np.arctan((1 - 0.3) / np.sqrt(a_b)) + np.arctan(0.3 / np.sqrt(a_b)))"
   ],
   "metadata": {
    "collapsed": false
   }
  },
  {
   "cell_type": "markdown",
   "source": [
    "### Funkcja do obliczenia błędu kwadratury dla całki (b)"
   ],
   "metadata": {
    "collapsed": false
   }
  },
  {
   "cell_type": "code",
   "execution_count": 7,
   "outputs": [],
   "source": [
    "def calculate_quadrature_error(func, a, b, exact_integral):\n",
    "    integral, error_estimate = quad(func, 0, 1)\n",
    "    error = abs((integral - exact_integral) / exact_integral)\n",
    "    return error"
   ],
   "metadata": {
    "collapsed": false
   }
  },
  {
   "cell_type": "markdown",
   "source": [
    "### Inicjalizacja list do przechowywania błędów kwadratury"
   ],
   "metadata": {
    "collapsed": false
   }
  },
  {
   "cell_type": "code",
   "execution_count": 8,
   "outputs": [],
   "source": [
    "errors_trapezoidal_a = []\n",
    "errors_gauss_kronrod_a = []\n",
    "errors_trapezoidal_b = []\n",
    "errors_gauss_kronrod_b = []"
   ],
   "metadata": {
    "collapsed": false
   }
  },
  {
   "cell_type": "markdown",
   "source": [
    "### Tolerancje dla kwadratur adaptacyjnych"
   ],
   "metadata": {
    "collapsed": false
   }
  },
  {
   "cell_type": "code",
   "execution_count": 9,
   "outputs": [],
   "source": [
    "tolerances = [10**-i for i in range(2, 15)]"
   ],
   "metadata": {
    "collapsed": false
   }
  },
  {
   "cell_type": "markdown",
   "source": [
    "### Obliczenia dla całki (a)"
   ],
   "metadata": {
    "collapsed": false
   }
  },
  {
   "cell_type": "code",
   "execution_count": 10,
   "outputs": [],
   "source": [
    "for tol in tolerances:\n",
    "    error_trapezoidal_a = calculate_quadrature_error(func_a, 0, 1, exact_integral_a)\n",
    "    errors_trapezoidal_a.append(error_trapezoidal_a)\n",
    "\n",
    "    error_gauss_kronrod_a = calculate_quadrature_error(func_a, 0, 1, exact_integral_a)\n",
    "    errors_gauss_kronrod_a.append(error_gauss_kronrod_a)"
   ],
   "metadata": {
    "collapsed": false
   }
  },
  {
   "cell_type": "markdown",
   "source": [
    "### Obliczenia dla całki (b)"
   ],
   "metadata": {
    "collapsed": false
   }
  },
  {
   "cell_type": "code",
   "execution_count": 11,
   "outputs": [],
   "source": [
    "for tol in tolerances:\n",
    "    error_trapezoidal_b = calculate_quadrature_error(func_b, 0, 1, exact_integral_b)\n",
    "    errors_trapezoidal_b.append(error_trapezoidal_b)\n",
    "\n",
    "    error_gauss_kronrod_b = calculate_quadrature_error(func_b, 0, 1, exact_integral_b)\n",
    "    errors_gauss_kronrod_b.append(error_gauss_kronrod_b)"
   ],
   "metadata": {
    "collapsed": false
   }
  },
  {
   "cell_type": "markdown",
   "source": [
    "### Wyświetlenie wyników"
   ],
   "metadata": {
    "collapsed": false
   }
  },
  {
   "cell_type": "code",
   "execution_count": 12,
   "outputs": [
    {
     "name": "stdout",
     "output_type": "stream",
     "text": [
      "Błąd kwadratury dla całki (a):\n",
      "Trapezowa: [7.494005416219807e-16, 7.494005416219807e-16, 7.494005416219807e-16, 7.494005416219807e-16, 7.494005416219807e-16, 7.494005416219807e-16, 7.494005416219807e-16, 7.494005416219807e-16, 7.494005416219807e-16, 7.494005416219807e-16, 7.494005416219807e-16, 7.494005416219807e-16, 7.494005416219807e-16]\n",
      "Gauss-Kronrod: [7.494005416219807e-16, 7.494005416219807e-16, 7.494005416219807e-16, 7.494005416219807e-16, 7.494005416219807e-16, 7.494005416219807e-16, 7.494005416219807e-16, 7.494005416219807e-16, 7.494005416219807e-16, 7.494005416219807e-16, 7.494005416219807e-16, 7.494005416219807e-16, 7.494005416219807e-16]\n",
      "\n",
      "Błąd kwadratury dla całki (b):\n",
      "Trapezowa: [0.35568635501199886, 0.35568635501199886, 0.35568635501199886, 0.35568635501199886, 0.35568635501199886, 0.35568635501199886, 0.35568635501199886, 0.35568635501199886, 0.35568635501199886, 0.35568635501199886, 0.35568635501199886, 0.35568635501199886, 0.35568635501199886]\n",
      "Gauss-Kronrod: [0.35568635501199886, 0.35568635501199886, 0.35568635501199886, 0.35568635501199886, 0.35568635501199886, 0.35568635501199886, 0.35568635501199886, 0.35568635501199886, 0.35568635501199886, 0.35568635501199886, 0.35568635501199886, 0.35568635501199886, 0.35568635501199886]\n"
     ]
    }
   ],
   "source": [
    "print(\"Błąd kwadratury dla całki (a):\")\n",
    "print(\"Trapezowa:\", errors_trapezoidal_a)\n",
    "print(\"Gauss-Kronrod:\", errors_gauss_kronrod_a)\n",
    "\n",
    "print(\"\\nBłąd kwadratury dla całki (b):\")\n",
    "print(\"Trapezowa:\", errors_trapezoidal_b)\n",
    "print(\"Gauss-Kronrod:\", errors_gauss_kronrod_b)"
   ],
   "metadata": {
    "collapsed": false
   }
  }
 ],
 "metadata": {
  "kernelspec": {
   "display_name": "Python 3",
   "language": "python",
   "name": "python3"
  },
  "language_info": {
   "codemirror_mode": {
    "name": "ipython",
    "version": 2
   },
   "file_extension": ".py",
   "mimetype": "text/x-python",
   "name": "python",
   "nbconvert_exporter": "python",
   "pygments_lexer": "ipython2",
   "version": "2.7.6"
  }
 },
 "nbformat": 4,
 "nbformat_minor": 0
}
