{
 "cells": [
  {
   "cell_type": "markdown",
   "source": [
    "# Zestaw zadań: Metoda najmniejszych kwadratów\n",
    "## Zadanie 1\n",
    "### Autor: Artur Gęsiarz"
   ],
   "metadata": {
    "collapsed": false
   }
  },
  {
   "cell_type": "code",
   "execution_count": 77,
   "outputs": [],
   "source": [
    "import pandas as pd\n",
    "import matplotlib.pyplot as plt"
   ],
   "metadata": {
    "collapsed": false
   }
  },
  {
   "cell_type": "markdown",
   "source": [
    "### Importowanie danych do testowania"
   ],
   "metadata": {
    "collapsed": false
   }
  },
  {
   "cell_type": "code",
   "execution_count": 78,
   "outputs": [],
   "source": [
    "# pozyskiwanie nazw kolumn\n",
    "column_names = []\n",
    "with open(\"/Users/arturgesiarz/Desktop/MOwNiT/materialy/lab02/dataset/breast-cancer.labels\") as f:\n",
    "    for line in f:\n",
    "        column_names.append(line.strip())"
   ],
   "metadata": {
    "collapsed": false
   }
  },
  {
   "cell_type": "code",
   "execution_count": 79,
   "outputs": [],
   "source": [
    "# pozyskianie pierwszego zestawu danych\n",
    "df_cancer_train = pd.io.parsers.read_csv(\"/Users/arturgesiarz/Desktop/MOwNiT/materialy/lab02/dataset/breast-cancer-train.dat\", names=column_names)"
   ],
   "metadata": {
    "collapsed": false
   }
  },
  {
   "cell_type": "code",
   "execution_count": 80,
   "outputs": [
    {
     "data": {
      "text/plain": "     patient ID Malignant/Benign  radius (mean)  texture (mean)  \\\n0        892438                M         19.530           18.90   \n1        892604                B         12.460           19.89   \n2      89263202                M         20.090           23.86   \n3        892657                B         10.490           18.61   \n4         89296                B         11.460           18.16   \n..          ...              ...            ...             ...   \n255      924934                B         10.290           27.61   \n256      924964                B         10.160           19.59   \n257      925236                B          9.423           27.88   \n258      925277                B         14.590           22.68   \n259      925291                B         11.510           23.93   \n\n     perimeter (mean)  area (mean)  smoothness (mean)  compactness (mean)  \\\n0              129.50       1217.0            0.11500             0.16420   \n1               80.43        471.3            0.08451             0.10140   \n2              134.70       1247.0            0.10800             0.18380   \n3               66.86        334.3            0.10680             0.06678   \n4               73.59        403.1            0.08853             0.07694   \n..                ...          ...                ...                 ...   \n255             65.67        321.4            0.09030             0.07658   \n256             64.73        311.7            0.10030             0.07504   \n257             59.26        271.3            0.08123             0.04971   \n258             96.39        657.1            0.08473             0.13300   \n259             74.52        403.5            0.09261             0.10210   \n\n     concavity (mean)  concave points (mean)  ...  radius (worst)  \\\n0            0.219700                0.10620  ...           25.93   \n1            0.068300                0.03099  ...           13.46   \n2            0.228300                0.12800  ...           23.68   \n3            0.022970                0.01780  ...           11.06   \n4            0.033440                0.01502  ...           12.68   \n..                ...                    ...  ...             ...   \n255          0.059990                0.02738  ...           10.84   \n256          0.005025                0.01116  ...           10.65   \n257          0.000000                0.00000  ...           10.49   \n258          0.102900                0.03736  ...           15.48   \n259          0.111200                0.04105  ...           12.48   \n\n     texture (worst)  perimeter (worst)  area (worst)  smoothness (worst)  \\\n0              26.24             171.10        2053.0              0.1495   \n1              23.07              88.13         551.3              0.1050   \n2              29.43             158.80        1696.0              0.1347   \n3              24.54              70.76         375.4              0.1413   \n4              21.61              82.69         489.8              0.1144   \n..               ...                ...           ...                 ...   \n255            34.91              69.57         357.6              0.1384   \n256            22.88              67.88         347.3              0.1265   \n257            34.24              66.50         330.6              0.1073   \n258            27.27             105.90         733.5              0.1026   \n259            37.16              82.28         474.2              0.1298   \n\n     compactness (worst)  concavity (worst)  concave points (worst)  \\\n0                0.41160            0.61210                 0.19800   \n1                0.21580            0.19040                 0.07625   \n2                0.33910            0.49320                 0.19230   \n3                0.10440            0.08423                 0.06528   \n4                0.17890            0.12260                 0.05509   \n..                   ...                ...                     ...   \n255              0.17100            0.20000                 0.09127   \n256              0.12000            0.01005                 0.02232   \n257              0.07158            0.00000                 0.00000   \n258              0.31710            0.36620                 0.11050   \n259              0.25170            0.36300                 0.09653   \n\n     symmetry (worst)  fractal dimension (worst)  \n0              0.2968                    0.09929  \n1              0.2685                    0.07764  \n2              0.3294                    0.09469  \n3              0.2213                    0.07842  \n4              0.2208                    0.07638  \n..                ...                        ...  \n255            0.2226                    0.08283  \n256            0.2262                    0.06742  \n257            0.2475                    0.06969  \n258            0.2258                    0.08004  \n259            0.2112                    0.08732  \n\n[260 rows x 32 columns]",
      "text/html": "<div>\n<style scoped>\n    .dataframe tbody tr th:only-of-type {\n        vertical-align: middle;\n    }\n\n    .dataframe tbody tr th {\n        vertical-align: top;\n    }\n\n    .dataframe thead th {\n        text-align: right;\n    }\n</style>\n<table border=\"1\" class=\"dataframe\">\n  <thead>\n    <tr style=\"text-align: right;\">\n      <th></th>\n      <th>patient ID</th>\n      <th>Malignant/Benign</th>\n      <th>radius (mean)</th>\n      <th>texture (mean)</th>\n      <th>perimeter (mean)</th>\n      <th>area (mean)</th>\n      <th>smoothness (mean)</th>\n      <th>compactness (mean)</th>\n      <th>concavity (mean)</th>\n      <th>concave points (mean)</th>\n      <th>...</th>\n      <th>radius (worst)</th>\n      <th>texture (worst)</th>\n      <th>perimeter (worst)</th>\n      <th>area (worst)</th>\n      <th>smoothness (worst)</th>\n      <th>compactness (worst)</th>\n      <th>concavity (worst)</th>\n      <th>concave points (worst)</th>\n      <th>symmetry (worst)</th>\n      <th>fractal dimension (worst)</th>\n    </tr>\n  </thead>\n  <tbody>\n    <tr>\n      <th>0</th>\n      <td>892438</td>\n      <td>M</td>\n      <td>19.530</td>\n      <td>18.90</td>\n      <td>129.50</td>\n      <td>1217.0</td>\n      <td>0.11500</td>\n      <td>0.16420</td>\n      <td>0.219700</td>\n      <td>0.10620</td>\n      <td>...</td>\n      <td>25.93</td>\n      <td>26.24</td>\n      <td>171.10</td>\n      <td>2053.0</td>\n      <td>0.1495</td>\n      <td>0.41160</td>\n      <td>0.61210</td>\n      <td>0.19800</td>\n      <td>0.2968</td>\n      <td>0.09929</td>\n    </tr>\n    <tr>\n      <th>1</th>\n      <td>892604</td>\n      <td>B</td>\n      <td>12.460</td>\n      <td>19.89</td>\n      <td>80.43</td>\n      <td>471.3</td>\n      <td>0.08451</td>\n      <td>0.10140</td>\n      <td>0.068300</td>\n      <td>0.03099</td>\n      <td>...</td>\n      <td>13.46</td>\n      <td>23.07</td>\n      <td>88.13</td>\n      <td>551.3</td>\n      <td>0.1050</td>\n      <td>0.21580</td>\n      <td>0.19040</td>\n      <td>0.07625</td>\n      <td>0.2685</td>\n      <td>0.07764</td>\n    </tr>\n    <tr>\n      <th>2</th>\n      <td>89263202</td>\n      <td>M</td>\n      <td>20.090</td>\n      <td>23.86</td>\n      <td>134.70</td>\n      <td>1247.0</td>\n      <td>0.10800</td>\n      <td>0.18380</td>\n      <td>0.228300</td>\n      <td>0.12800</td>\n      <td>...</td>\n      <td>23.68</td>\n      <td>29.43</td>\n      <td>158.80</td>\n      <td>1696.0</td>\n      <td>0.1347</td>\n      <td>0.33910</td>\n      <td>0.49320</td>\n      <td>0.19230</td>\n      <td>0.3294</td>\n      <td>0.09469</td>\n    </tr>\n    <tr>\n      <th>3</th>\n      <td>892657</td>\n      <td>B</td>\n      <td>10.490</td>\n      <td>18.61</td>\n      <td>66.86</td>\n      <td>334.3</td>\n      <td>0.10680</td>\n      <td>0.06678</td>\n      <td>0.022970</td>\n      <td>0.01780</td>\n      <td>...</td>\n      <td>11.06</td>\n      <td>24.54</td>\n      <td>70.76</td>\n      <td>375.4</td>\n      <td>0.1413</td>\n      <td>0.10440</td>\n      <td>0.08423</td>\n      <td>0.06528</td>\n      <td>0.2213</td>\n      <td>0.07842</td>\n    </tr>\n    <tr>\n      <th>4</th>\n      <td>89296</td>\n      <td>B</td>\n      <td>11.460</td>\n      <td>18.16</td>\n      <td>73.59</td>\n      <td>403.1</td>\n      <td>0.08853</td>\n      <td>0.07694</td>\n      <td>0.033440</td>\n      <td>0.01502</td>\n      <td>...</td>\n      <td>12.68</td>\n      <td>21.61</td>\n      <td>82.69</td>\n      <td>489.8</td>\n      <td>0.1144</td>\n      <td>0.17890</td>\n      <td>0.12260</td>\n      <td>0.05509</td>\n      <td>0.2208</td>\n      <td>0.07638</td>\n    </tr>\n    <tr>\n      <th>...</th>\n      <td>...</td>\n      <td>...</td>\n      <td>...</td>\n      <td>...</td>\n      <td>...</td>\n      <td>...</td>\n      <td>...</td>\n      <td>...</td>\n      <td>...</td>\n      <td>...</td>\n      <td>...</td>\n      <td>...</td>\n      <td>...</td>\n      <td>...</td>\n      <td>...</td>\n      <td>...</td>\n      <td>...</td>\n      <td>...</td>\n      <td>...</td>\n      <td>...</td>\n      <td>...</td>\n    </tr>\n    <tr>\n      <th>255</th>\n      <td>924934</td>\n      <td>B</td>\n      <td>10.290</td>\n      <td>27.61</td>\n      <td>65.67</td>\n      <td>321.4</td>\n      <td>0.09030</td>\n      <td>0.07658</td>\n      <td>0.059990</td>\n      <td>0.02738</td>\n      <td>...</td>\n      <td>10.84</td>\n      <td>34.91</td>\n      <td>69.57</td>\n      <td>357.6</td>\n      <td>0.1384</td>\n      <td>0.17100</td>\n      <td>0.20000</td>\n      <td>0.09127</td>\n      <td>0.2226</td>\n      <td>0.08283</td>\n    </tr>\n    <tr>\n      <th>256</th>\n      <td>924964</td>\n      <td>B</td>\n      <td>10.160</td>\n      <td>19.59</td>\n      <td>64.73</td>\n      <td>311.7</td>\n      <td>0.10030</td>\n      <td>0.07504</td>\n      <td>0.005025</td>\n      <td>0.01116</td>\n      <td>...</td>\n      <td>10.65</td>\n      <td>22.88</td>\n      <td>67.88</td>\n      <td>347.3</td>\n      <td>0.1265</td>\n      <td>0.12000</td>\n      <td>0.01005</td>\n      <td>0.02232</td>\n      <td>0.2262</td>\n      <td>0.06742</td>\n    </tr>\n    <tr>\n      <th>257</th>\n      <td>925236</td>\n      <td>B</td>\n      <td>9.423</td>\n      <td>27.88</td>\n      <td>59.26</td>\n      <td>271.3</td>\n      <td>0.08123</td>\n      <td>0.04971</td>\n      <td>0.000000</td>\n      <td>0.00000</td>\n      <td>...</td>\n      <td>10.49</td>\n      <td>34.24</td>\n      <td>66.50</td>\n      <td>330.6</td>\n      <td>0.1073</td>\n      <td>0.07158</td>\n      <td>0.00000</td>\n      <td>0.00000</td>\n      <td>0.2475</td>\n      <td>0.06969</td>\n    </tr>\n    <tr>\n      <th>258</th>\n      <td>925277</td>\n      <td>B</td>\n      <td>14.590</td>\n      <td>22.68</td>\n      <td>96.39</td>\n      <td>657.1</td>\n      <td>0.08473</td>\n      <td>0.13300</td>\n      <td>0.102900</td>\n      <td>0.03736</td>\n      <td>...</td>\n      <td>15.48</td>\n      <td>27.27</td>\n      <td>105.90</td>\n      <td>733.5</td>\n      <td>0.1026</td>\n      <td>0.31710</td>\n      <td>0.36620</td>\n      <td>0.11050</td>\n      <td>0.2258</td>\n      <td>0.08004</td>\n    </tr>\n    <tr>\n      <th>259</th>\n      <td>925291</td>\n      <td>B</td>\n      <td>11.510</td>\n      <td>23.93</td>\n      <td>74.52</td>\n      <td>403.5</td>\n      <td>0.09261</td>\n      <td>0.10210</td>\n      <td>0.111200</td>\n      <td>0.04105</td>\n      <td>...</td>\n      <td>12.48</td>\n      <td>37.16</td>\n      <td>82.28</td>\n      <td>474.2</td>\n      <td>0.1298</td>\n      <td>0.25170</td>\n      <td>0.36300</td>\n      <td>0.09653</td>\n      <td>0.2112</td>\n      <td>0.08732</td>\n    </tr>\n  </tbody>\n</table>\n<p>260 rows × 32 columns</p>\n</div>"
     },
     "execution_count": 80,
     "metadata": {},
     "output_type": "execute_result"
    }
   ],
   "source": [
    "# pozyskianie pierwszego zestawu danych\n",
    "df_cancer_validate = pd.io.parsers.read_csv(\"/Users/arturgesiarz/Desktop/MOwNiT/materialy/lab02/dataset/breast-cancer-validate.dat\", names=column_names)\n",
    "df_cancer_validate"
   ],
   "metadata": {
    "collapsed": false
   }
  },
  {
   "cell_type": "markdown",
   "source": [
    "### Histogram i wykres wybranej kolumny"
   ],
   "metadata": {
    "collapsed": false
   }
  }
 ],
 "metadata": {
  "kernelspec": {
   "display_name": "Python 3",
   "language": "python",
   "name": "python3"
  },
  "language_info": {
   "codemirror_mode": {
    "name": "ipython",
    "version": 2
   },
   "file_extension": ".py",
   "mimetype": "text/x-python",
   "name": "python",
   "nbconvert_exporter": "python",
   "pygments_lexer": "ipython2",
   "version": "2.7.6"
  }
 },
 "nbformat": 4,
 "nbformat_minor": 0
}
